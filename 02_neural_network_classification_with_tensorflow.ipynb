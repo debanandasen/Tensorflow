{
  "nbformat": 4,
  "nbformat_minor": 0,
  "metadata": {
    "colab": {
      "provenance": [],
      "toc_visible": true,
      "authorship_tag": "ABX9TyOZRz6OiphmaxnlFFVY7quB",
      "include_colab_link": true
    },
    "kernelspec": {
      "name": "python3",
      "display_name": "Python 3"
    },
    "language_info": {
      "name": "python"
    }
  },
  "cells": [
    {
      "cell_type": "markdown",
      "metadata": {
        "id": "view-in-github",
        "colab_type": "text"
      },
      "source": [
        "<a href=\"https://colab.research.google.com/github/debanandasen/Tensorflow/blob/main/02_neural_network_classification_with_tensorflow.ipynb\" target=\"_parent\"><img src=\"https://colab.research.google.com/assets/colab-badge.svg\" alt=\"Open In Colab\"/></a>"
      ]
    },
    {
      "cell_type": "markdown",
      "source": [
        "# Neural Network classification with Tensorflow\n",
        "A few types classification problems:\n",
        "  * Binary Classification\n",
        "  * Multiclass Classification\n",
        "  * Multilabel Classification"
      ],
      "metadata": {
        "id": "pK1h2ZH6lcBv"
      }
    },
    {
      "cell_type": "markdown",
      "source": [
        "## Creating data to Model & Fit"
      ],
      "metadata": {
        "id": "uKz1sCsgmUlp"
      }
    },
    {
      "cell_type": "code",
      "source": [
        "from sklearn.datasets import make_circles\n",
        "\n",
        "# Make 1000 examples\n",
        "n_samples = 1000\n",
        "\n",
        "# Create circles\n",
        "X,y = make_circles(n_samples,\n",
        "                   noise=0.03,\n",
        "                   random_state=42)\n",
        "\n"
      ],
      "metadata": {
        "id": "TxlcTUOsl4Bj"
      },
      "execution_count": null,
      "outputs": []
    },
    {
      "cell_type": "code",
      "source": [
        "X"
      ],
      "metadata": {
        "colab": {
          "base_uri": "https://localhost:8080/"
        },
        "id": "V14cmcjxmGjc",
        "outputId": "a379acff-e656-427e-b634-5b834f8c36a2"
      },
      "execution_count": null,
      "outputs": [
        {
          "output_type": "execute_result",
          "data": {
            "text/plain": [
              "array([[ 0.75424625,  0.23148074],\n",
              "       [-0.75615888,  0.15325888],\n",
              "       [-0.81539193,  0.17328203],\n",
              "       ...,\n",
              "       [-0.13690036, -0.81001183],\n",
              "       [ 0.67036156, -0.76750154],\n",
              "       [ 0.28105665,  0.96382443]])"
            ]
          },
          "metadata": {},
          "execution_count": 2
        }
      ]
    },
    {
      "cell_type": "code",
      "source": [
        "# change the labels\n",
        "y[:10]"
      ],
      "metadata": {
        "colab": {
          "base_uri": "https://localhost:8080/"
        },
        "id": "tx3Obt30oQ0s",
        "outputId": "da93812a-998c-4d28-d2b7-12e8ba04dc9f"
      },
      "execution_count": null,
      "outputs": [
        {
          "output_type": "execute_result",
          "data": {
            "text/plain": [
              "array([1, 1, 1, 1, 0, 1, 1, 1, 1, 0])"
            ]
          },
          "metadata": {},
          "execution_count": 3
        }
      ]
    },
    {
      "cell_type": "code",
      "source": [
        "import pandas as pd\n",
        "circles = pd.DataFrame({\"X0\":X[:,0], \"X1\":X[:,1], \"label\":y})\n",
        "circles\n"
      ],
      "metadata": {
        "colab": {
          "base_uri": "https://localhost:8080/",
          "height": 423
        },
        "id": "kzUEEndZoUMo",
        "outputId": "c5dd98fd-8336-4af6-8785-2ec7a9235070"
      },
      "execution_count": null,
      "outputs": [
        {
          "output_type": "execute_result",
          "data": {
            "text/plain": [
              "           X0        X1  label\n",
              "0    0.754246  0.231481      1\n",
              "1   -0.756159  0.153259      1\n",
              "2   -0.815392  0.173282      1\n",
              "3   -0.393731  0.692883      1\n",
              "4    0.442208 -0.896723      0\n",
              "..        ...       ...    ...\n",
              "995  0.244054  0.944125      0\n",
              "996 -0.978655 -0.272373      0\n",
              "997 -0.136900 -0.810012      1\n",
              "998  0.670362 -0.767502      0\n",
              "999  0.281057  0.963824      0\n",
              "\n",
              "[1000 rows x 3 columns]"
            ],
            "text/html": [
              "\n",
              "  <div id=\"df-fa8159cd-ff72-47bd-8910-eaa0062b6117\">\n",
              "    <div class=\"colab-df-container\">\n",
              "      <div>\n",
              "<style scoped>\n",
              "    .dataframe tbody tr th:only-of-type {\n",
              "        vertical-align: middle;\n",
              "    }\n",
              "\n",
              "    .dataframe tbody tr th {\n",
              "        vertical-align: top;\n",
              "    }\n",
              "\n",
              "    .dataframe thead th {\n",
              "        text-align: right;\n",
              "    }\n",
              "</style>\n",
              "<table border=\"1\" class=\"dataframe\">\n",
              "  <thead>\n",
              "    <tr style=\"text-align: right;\">\n",
              "      <th></th>\n",
              "      <th>X0</th>\n",
              "      <th>X1</th>\n",
              "      <th>label</th>\n",
              "    </tr>\n",
              "  </thead>\n",
              "  <tbody>\n",
              "    <tr>\n",
              "      <th>0</th>\n",
              "      <td>0.754246</td>\n",
              "      <td>0.231481</td>\n",
              "      <td>1</td>\n",
              "    </tr>\n",
              "    <tr>\n",
              "      <th>1</th>\n",
              "      <td>-0.756159</td>\n",
              "      <td>0.153259</td>\n",
              "      <td>1</td>\n",
              "    </tr>\n",
              "    <tr>\n",
              "      <th>2</th>\n",
              "      <td>-0.815392</td>\n",
              "      <td>0.173282</td>\n",
              "      <td>1</td>\n",
              "    </tr>\n",
              "    <tr>\n",
              "      <th>3</th>\n",
              "      <td>-0.393731</td>\n",
              "      <td>0.692883</td>\n",
              "      <td>1</td>\n",
              "    </tr>\n",
              "    <tr>\n",
              "      <th>4</th>\n",
              "      <td>0.442208</td>\n",
              "      <td>-0.896723</td>\n",
              "      <td>0</td>\n",
              "    </tr>\n",
              "    <tr>\n",
              "      <th>...</th>\n",
              "      <td>...</td>\n",
              "      <td>...</td>\n",
              "      <td>...</td>\n",
              "    </tr>\n",
              "    <tr>\n",
              "      <th>995</th>\n",
              "      <td>0.244054</td>\n",
              "      <td>0.944125</td>\n",
              "      <td>0</td>\n",
              "    </tr>\n",
              "    <tr>\n",
              "      <th>996</th>\n",
              "      <td>-0.978655</td>\n",
              "      <td>-0.272373</td>\n",
              "      <td>0</td>\n",
              "    </tr>\n",
              "    <tr>\n",
              "      <th>997</th>\n",
              "      <td>-0.136900</td>\n",
              "      <td>-0.810012</td>\n",
              "      <td>1</td>\n",
              "    </tr>\n",
              "    <tr>\n",
              "      <th>998</th>\n",
              "      <td>0.670362</td>\n",
              "      <td>-0.767502</td>\n",
              "      <td>0</td>\n",
              "    </tr>\n",
              "    <tr>\n",
              "      <th>999</th>\n",
              "      <td>0.281057</td>\n",
              "      <td>0.963824</td>\n",
              "      <td>0</td>\n",
              "    </tr>\n",
              "  </tbody>\n",
              "</table>\n",
              "<p>1000 rows × 3 columns</p>\n",
              "</div>\n",
              "      <button class=\"colab-df-convert\" onclick=\"convertToInteractive('df-fa8159cd-ff72-47bd-8910-eaa0062b6117')\"\n",
              "              title=\"Convert this dataframe to an interactive table.\"\n",
              "              style=\"display:none;\">\n",
              "        \n",
              "  <svg xmlns=\"http://www.w3.org/2000/svg\" height=\"24px\"viewBox=\"0 0 24 24\"\n",
              "       width=\"24px\">\n",
              "    <path d=\"M0 0h24v24H0V0z\" fill=\"none\"/>\n",
              "    <path d=\"M18.56 5.44l.94 2.06.94-2.06 2.06-.94-2.06-.94-.94-2.06-.94 2.06-2.06.94zm-11 1L8.5 8.5l.94-2.06 2.06-.94-2.06-.94L8.5 2.5l-.94 2.06-2.06.94zm10 10l.94 2.06.94-2.06 2.06-.94-2.06-.94-.94-2.06-.94 2.06-2.06.94z\"/><path d=\"M17.41 7.96l-1.37-1.37c-.4-.4-.92-.59-1.43-.59-.52 0-1.04.2-1.43.59L10.3 9.45l-7.72 7.72c-.78.78-.78 2.05 0 2.83L4 21.41c.39.39.9.59 1.41.59.51 0 1.02-.2 1.41-.59l7.78-7.78 2.81-2.81c.8-.78.8-2.07 0-2.86zM5.41 20L4 18.59l7.72-7.72 1.47 1.35L5.41 20z\"/>\n",
              "  </svg>\n",
              "      </button>\n",
              "      \n",
              "  <style>\n",
              "    .colab-df-container {\n",
              "      display:flex;\n",
              "      flex-wrap:wrap;\n",
              "      gap: 12px;\n",
              "    }\n",
              "\n",
              "    .colab-df-convert {\n",
              "      background-color: #E8F0FE;\n",
              "      border: none;\n",
              "      border-radius: 50%;\n",
              "      cursor: pointer;\n",
              "      display: none;\n",
              "      fill: #1967D2;\n",
              "      height: 32px;\n",
              "      padding: 0 0 0 0;\n",
              "      width: 32px;\n",
              "    }\n",
              "\n",
              "    .colab-df-convert:hover {\n",
              "      background-color: #E2EBFA;\n",
              "      box-shadow: 0px 1px 2px rgba(60, 64, 67, 0.3), 0px 1px 3px 1px rgba(60, 64, 67, 0.15);\n",
              "      fill: #174EA6;\n",
              "    }\n",
              "\n",
              "    [theme=dark] .colab-df-convert {\n",
              "      background-color: #3B4455;\n",
              "      fill: #D2E3FC;\n",
              "    }\n",
              "\n",
              "    [theme=dark] .colab-df-convert:hover {\n",
              "      background-color: #434B5C;\n",
              "      box-shadow: 0px 1px 3px 1px rgba(0, 0, 0, 0.15);\n",
              "      filter: drop-shadow(0px 1px 2px rgba(0, 0, 0, 0.3));\n",
              "      fill: #FFFFFF;\n",
              "    }\n",
              "  </style>\n",
              "\n",
              "      <script>\n",
              "        const buttonEl =\n",
              "          document.querySelector('#df-fa8159cd-ff72-47bd-8910-eaa0062b6117 button.colab-df-convert');\n",
              "        buttonEl.style.display =\n",
              "          google.colab.kernel.accessAllowed ? 'block' : 'none';\n",
              "\n",
              "        async function convertToInteractive(key) {\n",
              "          const element = document.querySelector('#df-fa8159cd-ff72-47bd-8910-eaa0062b6117');\n",
              "          const dataTable =\n",
              "            await google.colab.kernel.invokeFunction('convertToInteractive',\n",
              "                                                     [key], {});\n",
              "          if (!dataTable) return;\n",
              "\n",
              "          const docLinkHtml = 'Like what you see? Visit the ' +\n",
              "            '<a target=\"_blank\" href=https://colab.research.google.com/notebooks/data_table.ipynb>data table notebook</a>'\n",
              "            + ' to learn more about interactive tables.';\n",
              "          element.innerHTML = '';\n",
              "          dataTable['output_type'] = 'display_data';\n",
              "          await google.colab.output.renderOutput(dataTable, element);\n",
              "          const docLink = document.createElement('div');\n",
              "          docLink.innerHTML = docLinkHtml;\n",
              "          element.appendChild(docLink);\n",
              "        }\n",
              "      </script>\n",
              "    </div>\n",
              "  </div>\n",
              "  "
            ]
          },
          "metadata": {},
          "execution_count": 4
        }
      ]
    },
    {
      "cell_type": "code",
      "source": [
        "# Visualize with a plot\n",
        "\n",
        "import matplotlib.pyplot as plt\n",
        "plt.scatter(X[:,0], X[:,1], c=y, cmap=plt.cm.RdYlBu)"
      ],
      "metadata": {
        "colab": {
          "base_uri": "https://localhost:8080/",
          "height": 283
        },
        "id": "2Ytc6hd0pgtV",
        "outputId": "0f2fffb2-7215-4fde-afa8-abfb7fde13bf"
      },
      "execution_count": null,
      "outputs": [
        {
          "output_type": "execute_result",
          "data": {
            "text/plain": [
              "<matplotlib.collections.PathCollection at 0x7f85bbe2f7f0>"
            ]
          },
          "metadata": {},
          "execution_count": 5
        },
        {
          "output_type": "display_data",
          "data": {
            "text/plain": [
              "<Figure size 432x288 with 1 Axes>"
            ],
            "image/png": "[encoded data removed]"
          },
          "metadata": {
            "needs_background": "light"
          }
        }
      ]
    },
    {
      "cell_type": "markdown",
      "source": [
        "## Input and Output Shapes"
      ],
      "metadata": {
        "id": "DzllKolxsvoP"
      }
    },
    {
      "cell_type": "code",
      "source": [
        "X.shape,y.shape"
      ],
      "metadata": {
        "colab": {
          "base_uri": "https://localhost:8080/"
        },
        "id": "4oaSymYeszfu",
        "outputId": "87845fd3-0e71-4339-c20b-b72ae0d8239c"
      },
      "execution_count": null,
      "outputs": [
        {
          "output_type": "execute_result",
          "data": {
            "text/plain": [
              "((1000, 2), (1000,))"
            ]
          },
          "metadata": {},
          "execution_count": 6
        }
      ]
    },
    {
      "cell_type": "code",
      "source": [
        "X[0],y[0]"
      ],
      "metadata": {
        "colab": {
          "base_uri": "https://localhost:8080/"
        },
        "id": "SAZR9AQ0s7cy",
        "outputId": "dbbc5cc0-b388-493c-9004-316c862e8d57"
      },
      "execution_count": null,
      "outputs": [
        {
          "output_type": "execute_result",
          "data": {
            "text/plain": [
              "(array([0.75424625, 0.23148074]), 1)"
            ]
          },
          "metadata": {},
          "execution_count": 7
        }
      ]
    },
    {
      "cell_type": "code",
      "source": [
        "import tensorflow as tf\n",
        "# set he random seed\n",
        "tf.random.set_seed(42)\n",
        "\n",
        "#1 Create the model using Sequential API\n",
        "model_1 = tf.keras.Sequential([\n",
        "    tf.keras.layers.Dense(1)\n",
        "])\n",
        "\n",
        "#2. Compile the Model\n",
        "\n",
        "model_1.compile(loss= tf.keras.losses.BinaryCrossentropy(),\n",
        "                optimizer=tf.keras.optimizers.SGD(),\n",
        "                metrics=[\"accuracy\"]\n",
        "                )\n",
        "\n",
        "#3. Fit the Model\n",
        "model_1.fit(X,y, epochs=5)"
      ],
      "metadata": {
        "colab": {
          "base_uri": "https://localhost:8080/"
        },
        "id": "KR86169wtNbB",
        "outputId": "7a9fba8d-52c0-4bc0-e188-66546e44c46b"
      },
      "execution_count": null,
      "outputs": [
        {
          "output_type": "stream",
          "name": "stdout",
          "text": [
            "Epoch 1/5\n",
            "32/32 [==============================] - 1s 3ms/step - loss: 4.9644 - accuracy: 0.4650\n",
            "Epoch 2/5\n",
            "32/32 [==============================] - 0s 3ms/step - loss: 4.7233 - accuracy: 0.4640\n",
            "Epoch 3/5\n",
            "32/32 [==============================] - 0s 3ms/step - loss: 4.1973 - accuracy: 0.4700\n",
            "Epoch 4/5\n",
            "32/32 [==============================] - 0s 3ms/step - loss: 2.0682 - accuracy: 0.4870\n",
            "Epoch 5/5\n",
            "32/32 [==============================] - 0s 2ms/step - loss: 0.7422 - accuracy: 0.4900\n"
          ]
        },
        {
          "output_type": "execute_result",
          "data": {
            "text/plain": [
              "<keras.callbacks.History at 0x7f855e19a700>"
            ]
          },
          "metadata": {},
          "execution_count": 8
        }
      ]
    },
    {
      "cell_type": "code",
      "source": [
        "# Let's try and improve our model by training for longer\n",
        "model_1.fit(X,y, epochs=100, verbose=0)\n",
        "model_1.evaluate(X,y)"
      ],
      "metadata": {
        "colab": {
          "base_uri": "https://localhost:8080/"
        },
        "id": "cZyPWbLbvhpq",
        "outputId": "9cdb2222-fea5-4cc5-ac89-fa1036d7255a"
      },
      "execution_count": null,
      "outputs": [
        {
          "output_type": "stream",
          "name": "stdout",
          "text": [
            "32/32 [==============================] - 0s 1ms/step - loss: 0.6932 - accuracy: 0.5000\n"
          ]
        },
        {
          "output_type": "execute_result",
          "data": {
            "text/plain": [
              "[0.693244993686676, 0.5]"
            ]
          },
          "metadata": {},
          "execution_count": 9
        }
      ]
    },
    {
      "cell_type": "markdown",
      "source": [
        "Since we're working on a binary classification problem and our model is getting around 50% accuracy , So let's use more layers"
      ],
      "metadata": {
        "id": "6SSkZz38zUb9"
      }
    },
    {
      "cell_type": "code",
      "source": [
        "# Set the random seed\n",
        "tf.random.set_seed(42)\n",
        "\n",
        "#1. Create a model, this time with 2 layers\n",
        "model_2 = tf.keras.Sequential([\n",
        "    tf.keras.layers.Dense(1),\n",
        "    tf.keras.layers.Dense(1)\n",
        "])\n",
        "\n",
        "#2. Compile the model\n",
        "model_2.compile(loss=tf.keras.losses.BinaryCrossentropy(),\n",
        "                optimizer=tf.keras.optimizers.SGD(),\n",
        "                metrics=[\"accuracy\"])\n",
        "\n",
        "#3. Fit the model\n",
        "model_2.fit(X,y, epochs=100, verbose=0)"
      ],
      "metadata": {
        "colab": {
          "base_uri": "https://localhost:8080/"
        },
        "id": "kuIVFPlMzBfF",
        "outputId": "4d386db0-1a46-470f-db19-feb873e25aab"
      },
      "execution_count": null,
      "outputs": [
        {
          "output_type": "execute_result",
          "data": {
            "text/plain": [
              "<keras.callbacks.History at 0x7f855e987730>"
            ]
          },
          "metadata": {},
          "execution_count": 10
        }
      ]
    },
    {
      "cell_type": "code",
      "source": [
        "# EValuate the model\n",
        "model_2.evaluate(X,y)"
      ],
      "metadata": {
        "colab": {
          "base_uri": "https://localhost:8080/"
        },
        "id": "IBCHvVUf0ww4",
        "outputId": "5b1a0ff2-6708-45eb-9d91-e1f18d873a23"
      },
      "execution_count": null,
      "outputs": [
        {
          "output_type": "stream",
          "name": "stdout",
          "text": [
            "32/32 [==============================] - 0s 5ms/step - loss: 0.6933 - accuracy: 0.5000\n"
          ]
        },
        {
          "output_type": "execute_result",
          "data": {
            "text/plain": [
              "[0.693270742893219, 0.5]"
            ]
          },
          "metadata": {},
          "execution_count": 11
        }
      ]
    },
    {
      "cell_type": "markdown",
      "source": [
        "## Improving our Model"
      ],
      "metadata": {
        "id": "0C93pUJk1Q9-"
      }
    },
    {
      "cell_type": "code",
      "source": [
        "# set the random seed\n",
        "tf.random.set_seed(42)\n",
        "\n",
        "#1 Create the model\n",
        "\n",
        "model_3 = tf.keras.Sequential([\n",
        "    tf.keras.layers.Dense(100),\n",
        "    tf.keras.layers.Dense(10),\n",
        "    tf.keras.layers.Dense(1)\n",
        "])\n",
        "\n",
        "#2. Compile the model\n",
        "model_3.compile(loss=tf.keras.losses.BinaryCrossentropy(),\n",
        "                optimizer=tf.keras.optimizers.Adam(),\n",
        "                metrics=[\"accuracy\"])\n",
        "\n",
        "#3. Fit the model\n",
        "\n",
        "model_3.fit(X,y, epochs=-100, verbose=0)"
      ],
      "metadata": {
        "colab": {
          "base_uri": "https://localhost:8080/"
        },
        "id": "iIRToL5G1TlH",
        "outputId": "4d6f0904-6a56-49ad-d5cc-a0b20dbcfad1"
      },
      "execution_count": null,
      "outputs": [
        {
          "output_type": "execute_result",
          "data": {
            "text/plain": [
              "<keras.callbacks.History at 0x7f855e856cd0>"
            ]
          },
          "metadata": {},
          "execution_count": 12
        }
      ]
    },
    {
      "cell_type": "code",
      "source": [
        "model_3.evaluate(X,y)"
      ],
      "metadata": {
        "colab": {
          "base_uri": "https://localhost:8080/"
        },
        "id": "KpXtHbYY5U1R",
        "outputId": "0f8fbacc-aa5b-484c-fab7-feb394ac29f4"
      },
      "execution_count": null,
      "outputs": [
        {
          "output_type": "stream",
          "name": "stdout",
          "text": [
            "32/32 [==============================] - 1s 3ms/step - loss: 4.3809 - accuracy: 0.5000\n"
          ]
        },
        {
          "output_type": "execute_result",
          "data": {
            "text/plain": [
              "[4.3809380531311035, 0.5]"
            ]
          },
          "metadata": {},
          "execution_count": 13
        }
      ]
    },
    {
      "cell_type": "markdown",
      "source": [
        "##Let's try to build our first neural network with Non-Linear Activation Function."
      ],
      "metadata": {
        "id": "hxLXYM0agQRo"
      }
    },
    {
      "cell_type": "code",
      "source": [
        "import tensorflow as tf\n",
        "# Set random seed\n",
        "tf.random.set_seed(42)\n",
        "\n",
        "#1. Create a model with a non-linear activation\n",
        "\n",
        "model_5 = tf.keras.Sequential([\n",
        "    tf.keras.layers.Dense(1,activation=tf.keras.activations.relu)\n",
        "])\n",
        "\n",
        "#2. Compile the model\n",
        "model_5.compile(loss=tf.keras.losses.BinaryFocalCrossentropy(),\n",
        "                optimizer=tf.keras.optimizers.Adam(lr=0.001),\n",
        "                metrics=[\"accuracy\"])\n",
        "\n",
        "#3. Fit the model\n",
        "\n",
        "history = model_5.fit(X,y, epochs=100)\n"
      ],
      "metadata": {
        "colab": {
          "base_uri": "https://localhost:8080/"
        },
        "id": "ObJ4ubwQgZvu",
        "outputId": "5f1039cc-9b38-4ab9-e18c-dd0f636e7d68"
      },
      "execution_count": null,
      "outputs": [
        {
          "output_type": "stream",
          "name": "stderr",
          "text": [
            "WARNING:absl:`lr` is deprecated, please use `learning_rate` instead, or use the legacy optimizer, e.g.,tf.keras.optimizers.legacy.Adam.\n"
          ]
        },
        {
          "output_type": "stream",
          "name": "stdout",
          "text": [
            "Epoch 1/100\n",
            "32/32 [==============================] - 3s 6ms/step - loss: 4.0922 - accuracy: 0.4630\n",
            "Epoch 2/100\n",
            "32/32 [==============================] - 0s 5ms/step - loss: 4.0716 - accuracy: 0.4630\n",
            "Epoch 3/100\n",
            "32/32 [==============================] - 0s 5ms/step - loss: 4.0683 - accuracy: 0.4630\n",
            "Epoch 4/100\n",
            "32/32 [==============================] - 0s 5ms/step - loss: 4.0652 - accuracy: 0.4630\n",
            "Epoch 5/100\n",
            "32/32 [==============================] - 0s 5ms/step - loss: 4.0353 - accuracy: 0.4640\n",
            "Epoch 6/100\n",
            "32/32 [==============================] - 0s 5ms/step - loss: 3.9885 - accuracy: 0.4650\n",
            "Epoch 7/100\n",
            "32/32 [==============================] - 0s 5ms/step - loss: 3.9699 - accuracy: 0.4660\n",
            "Epoch 8/100\n",
            "32/32 [==============================] - 0s 5ms/step - loss: 3.9570 - accuracy: 0.4660\n",
            "Epoch 9/100\n",
            "32/32 [==============================] - 0s 4ms/step - loss: 3.9438 - accuracy: 0.4660\n",
            "Epoch 10/100\n",
            "32/32 [==============================] - 0s 4ms/step - loss: 3.9255 - accuracy: 0.4660\n",
            "Epoch 11/100\n",
            "32/32 [==============================] - 0s 4ms/step - loss: 3.9118 - accuracy: 0.4660\n",
            "Epoch 12/100\n",
            "32/32 [==============================] - 0s 6ms/step - loss: 3.8764 - accuracy: 0.4650\n",
            "Epoch 13/100\n",
            "32/32 [==============================] - 0s 4ms/step - loss: 3.8583 - accuracy: 0.4650\n",
            "Epoch 14/100\n",
            "32/32 [==============================] - 0s 5ms/step - loss: 3.8507 - accuracy: 0.4650\n",
            "Epoch 15/100\n",
            "32/32 [==============================] - 0s 3ms/step - loss: 3.8257 - accuracy: 0.4650\n",
            "Epoch 16/100\n",
            "32/32 [==============================] - 0s 2ms/step - loss: 3.7971 - accuracy: 0.4650\n",
            "Epoch 17/100\n",
            "32/32 [==============================] - 0s 3ms/step - loss: 3.7669 - accuracy: 0.4650\n",
            "Epoch 18/100\n",
            "32/32 [==============================] - 0s 2ms/step - loss: 3.7069 - accuracy: 0.4660\n",
            "Epoch 19/100\n",
            "32/32 [==============================] - 0s 2ms/step - loss: 3.6685 - accuracy: 0.4660\n",
            "Epoch 20/100\n",
            "32/32 [==============================] - 0s 2ms/step - loss: 3.6194 - accuracy: 0.4660\n",
            "Epoch 21/100\n",
            "32/32 [==============================] - 0s 3ms/step - loss: 3.5906 - accuracy: 0.4650\n",
            "Epoch 22/100\n",
            "32/32 [==============================] - 0s 3ms/step - loss: 3.5641 - accuracy: 0.4660\n",
            "Epoch 23/100\n",
            "32/32 [==============================] - 0s 3ms/step - loss: 3.5115 - accuracy: 0.4660\n",
            "Epoch 24/100\n",
            "32/32 [==============================] - 0s 3ms/step - loss: 3.4917 - accuracy: 0.4660\n",
            "Epoch 25/100\n",
            "32/32 [==============================] - 0s 4ms/step - loss: 3.4521 - accuracy: 0.4660\n",
            "Epoch 26/100\n",
            "32/32 [==============================] - 0s 3ms/step - loss: 3.3751 - accuracy: 0.4660\n",
            "Epoch 27/100\n",
            "32/32 [==============================] - 0s 4ms/step - loss: 3.3020 - accuracy: 0.4670\n",
            "Epoch 28/100\n",
            "32/32 [==============================] - 0s 2ms/step - loss: 3.2698 - accuracy: 0.4680\n",
            "Epoch 29/100\n",
            "32/32 [==============================] - 0s 2ms/step - loss: 3.2519 - accuracy: 0.4670\n",
            "Epoch 30/100\n",
            "32/32 [==============================] - 0s 3ms/step - loss: 3.2364 - accuracy: 0.4670\n",
            "Epoch 31/100\n",
            "32/32 [==============================] - 0s 3ms/step - loss: 3.1805 - accuracy: 0.4650\n",
            "Epoch 32/100\n",
            "32/32 [==============================] - 0s 3ms/step - loss: 3.1299 - accuracy: 0.4670\n",
            "Epoch 33/100\n",
            "32/32 [==============================] - 0s 3ms/step - loss: 3.0624 - accuracy: 0.4670\n",
            "Epoch 34/100\n",
            "32/32 [==============================] - 0s 3ms/step - loss: 2.9891 - accuracy: 0.4650\n",
            "Epoch 35/100\n",
            "32/32 [==============================] - 0s 3ms/step - loss: 2.8416 - accuracy: 0.4660\n",
            "Epoch 36/100\n",
            "32/32 [==============================] - 0s 4ms/step - loss: 2.7478 - accuracy: 0.4650\n",
            "Epoch 37/100\n",
            "32/32 [==============================] - 0s 3ms/step - loss: 2.6500 - accuracy: 0.4660\n",
            "Epoch 38/100\n",
            "32/32 [==============================] - 0s 3ms/step - loss: 2.4958 - accuracy: 0.4660\n",
            "Epoch 39/100\n",
            "32/32 [==============================] - 0s 4ms/step - loss: 2.3198 - accuracy: 0.4650\n",
            "Epoch 40/100\n",
            "32/32 [==============================] - 0s 3ms/step - loss: 2.0639 - accuracy: 0.4660\n",
            "Epoch 41/100\n",
            "32/32 [==============================] - 0s 3ms/step - loss: 1.5615 - accuracy: 0.4660\n",
            "Epoch 42/100\n",
            "32/32 [==============================] - 0s 3ms/step - loss: 0.6617 - accuracy: 0.4650\n",
            "Epoch 43/100\n",
            "32/32 [==============================] - 0s 3ms/step - loss: 0.4965 - accuracy: 0.4630\n",
            "Epoch 44/100\n",
            "32/32 [==============================] - 0s 3ms/step - loss: 0.4602 - accuracy: 0.4640\n",
            "Epoch 45/100\n",
            "32/32 [==============================] - 0s 2ms/step - loss: 0.4329 - accuracy: 0.4630\n",
            "Epoch 46/100\n",
            "32/32 [==============================] - 0s 3ms/step - loss: 0.4103 - accuracy: 0.4620\n",
            "Epoch 47/100\n",
            "32/32 [==============================] - 0s 2ms/step - loss: 0.3913 - accuracy: 0.4630\n",
            "Epoch 48/100\n",
            "32/32 [==============================] - 0s 2ms/step - loss: 0.3746 - accuracy: 0.4620\n",
            "Epoch 49/100\n",
            "32/32 [==============================] - 0s 3ms/step - loss: 0.3602 - accuracy: 0.4630\n",
            "Epoch 50/100\n",
            "32/32 [==============================] - 0s 3ms/step - loss: 0.3470 - accuracy: 0.4630\n",
            "Epoch 51/100\n",
            "32/32 [==============================] - 0s 6ms/step - loss: 0.3350 - accuracy: 0.4620\n",
            "Epoch 52/100\n",
            "32/32 [==============================] - 0s 3ms/step - loss: 0.3245 - accuracy: 0.4620\n",
            "Epoch 53/100\n",
            "32/32 [==============================] - 0s 3ms/step - loss: 0.3145 - accuracy: 0.4620\n",
            "Epoch 54/100\n",
            "32/32 [==============================] - 0s 3ms/step - loss: 0.3056 - accuracy: 0.4630\n",
            "Epoch 55/100\n",
            "32/32 [==============================] - 0s 3ms/step - loss: 0.2972 - accuracy: 0.4630\n",
            "Epoch 56/100\n",
            "32/32 [==============================] - 0s 4ms/step - loss: 0.2894 - accuracy: 0.4640\n",
            "Epoch 57/100\n",
            "32/32 [==============================] - 0s 3ms/step - loss: 0.2823 - accuracy: 0.4640\n",
            "Epoch 58/100\n",
            "32/32 [==============================] - 0s 3ms/step - loss: 0.2756 - accuracy: 0.4630\n",
            "Epoch 59/100\n",
            "32/32 [==============================] - 0s 3ms/step - loss: 0.2694 - accuracy: 0.4650\n",
            "Epoch 60/100\n",
            "32/32 [==============================] - 0s 4ms/step - loss: 0.2635 - accuracy: 0.4660\n",
            "Epoch 61/100\n",
            "32/32 [==============================] - 0s 3ms/step - loss: 0.2581 - accuracy: 0.4660\n",
            "Epoch 62/100\n",
            "32/32 [==============================] - 0s 4ms/step - loss: 0.2531 - accuracy: 0.4670\n",
            "Epoch 63/100\n",
            "32/32 [==============================] - 0s 5ms/step - loss: 0.2481 - accuracy: 0.4680\n",
            "Epoch 64/100\n",
            "32/32 [==============================] - 0s 4ms/step - loss: 0.2436 - accuracy: 0.4690\n",
            "Epoch 65/100\n",
            "32/32 [==============================] - 0s 4ms/step - loss: 0.2393 - accuracy: 0.4680\n",
            "Epoch 66/100\n",
            "32/32 [==============================] - 0s 3ms/step - loss: 0.2351 - accuracy: 0.4680\n",
            "Epoch 67/100\n",
            "32/32 [==============================] - 0s 5ms/step - loss: 0.2313 - accuracy: 0.4680\n",
            "Epoch 68/100\n",
            "32/32 [==============================] - 0s 4ms/step - loss: 0.2277 - accuracy: 0.4670\n",
            "Epoch 69/100\n",
            "32/32 [==============================] - 0s 4ms/step - loss: 0.2242 - accuracy: 0.4660\n",
            "Epoch 70/100\n",
            "32/32 [==============================] - 0s 3ms/step - loss: 0.2210 - accuracy: 0.4680\n",
            "Epoch 71/100\n",
            "32/32 [==============================] - 0s 3ms/step - loss: 0.2179 - accuracy: 0.4690\n",
            "Epoch 72/100\n",
            "32/32 [==============================] - 0s 3ms/step - loss: 0.2151 - accuracy: 0.4680\n",
            "Epoch 73/100\n",
            "32/32 [==============================] - 0s 4ms/step - loss: 0.2124 - accuracy: 0.4670\n",
            "Epoch 74/100\n",
            "32/32 [==============================] - 0s 3ms/step - loss: 0.2098 - accuracy: 0.4680\n",
            "Epoch 75/100\n",
            "32/32 [==============================] - 0s 3ms/step - loss: 0.2074 - accuracy: 0.4670\n",
            "Epoch 76/100\n",
            "32/32 [==============================] - 0s 3ms/step - loss: 0.2051 - accuracy: 0.4680\n",
            "Epoch 77/100\n",
            "32/32 [==============================] - 0s 3ms/step - loss: 0.2030 - accuracy: 0.4660\n",
            "Epoch 78/100\n",
            "32/32 [==============================] - 0s 3ms/step - loss: 0.2009 - accuracy: 0.4680\n",
            "Epoch 79/100\n",
            "32/32 [==============================] - 0s 3ms/step - loss: 0.1990 - accuracy: 0.4680\n",
            "Epoch 80/100\n",
            "32/32 [==============================] - 0s 6ms/step - loss: 0.1972 - accuracy: 0.4690\n",
            "Epoch 81/100\n",
            "32/32 [==============================] - 0s 3ms/step - loss: 0.1955 - accuracy: 0.4690\n",
            "Epoch 82/100\n",
            "32/32 [==============================] - 0s 3ms/step - loss: 0.1939 - accuracy: 0.4680\n",
            "Epoch 83/100\n",
            "32/32 [==============================] - 0s 4ms/step - loss: 0.1924 - accuracy: 0.4680\n",
            "Epoch 84/100\n",
            "32/32 [==============================] - 0s 6ms/step - loss: 0.1910 - accuracy: 0.4680\n",
            "Epoch 85/100\n",
            "32/32 [==============================] - 0s 4ms/step - loss: 0.1897 - accuracy: 0.4680\n",
            "Epoch 86/100\n",
            "32/32 [==============================] - 0s 4ms/step - loss: 0.1885 - accuracy: 0.4680\n",
            "Epoch 87/100\n",
            "32/32 [==============================] - 0s 6ms/step - loss: 0.1873 - accuracy: 0.4690\n",
            "Epoch 88/100\n",
            "32/32 [==============================] - 0s 5ms/step - loss: 0.1862 - accuracy: 0.4690\n",
            "Epoch 89/100\n",
            "32/32 [==============================] - 0s 6ms/step - loss: 0.1853 - accuracy: 0.4700\n",
            "Epoch 90/100\n",
            "32/32 [==============================] - 0s 11ms/step - loss: 0.1843 - accuracy: 0.4690\n",
            "Epoch 91/100\n",
            "32/32 [==============================] - 0s 8ms/step - loss: 0.1834 - accuracy: 0.4680\n",
            "Epoch 92/100\n",
            "32/32 [==============================] - 0s 6ms/step - loss: 0.1826 - accuracy: 0.4710\n",
            "Epoch 93/100\n",
            "32/32 [==============================] - 0s 5ms/step - loss: 0.1819 - accuracy: 0.4710\n",
            "Epoch 94/100\n",
            "32/32 [==============================] - 0s 6ms/step - loss: 0.1812 - accuracy: 0.4740\n",
            "Epoch 95/100\n",
            "32/32 [==============================] - 0s 4ms/step - loss: 0.1805 - accuracy: 0.4750\n",
            "Epoch 96/100\n",
            "32/32 [==============================] - 0s 5ms/step - loss: 0.1799 - accuracy: 0.4750\n",
            "Epoch 97/100\n",
            "32/32 [==============================] - 0s 5ms/step - loss: 0.1793 - accuracy: 0.4750\n",
            "Epoch 98/100\n",
            "32/32 [==============================] - 0s 10ms/step - loss: 0.1788 - accuracy: 0.4780\n",
            "Epoch 99/100\n",
            "32/32 [==============================] - 0s 7ms/step - loss: 0.1783 - accuracy: 0.4800\n",
            "Epoch 100/100\n",
            "32/32 [==============================] - 0s 7ms/step - loss: 0.1778 - accuracy: 0.4810\n"
          ]
        }
      ]
    },
    {
      "cell_type": "markdown",
      "source": [
        "## Replicate the multi-layer neural network from Tensorflow playground."
      ],
      "metadata": {
        "id": "wi8hJetwlH48"
      }
    },
    {
      "cell_type": "code",
      "source": [
        "# Set random seed\n",
        "tf.random.set_seed(42)\n",
        "\n",
        "#1. Create a model with a non-linear activation\n",
        "\n",
        "model_6 = tf.keras.Sequential([\n",
        "    tf.keras.layers.Dense(4,activation=tf.keras.activations.relu),\n",
        "    tf.keras.layers.Dense(4,activation=tf.keras.activations.relu),\n",
        "    tf.keras.layers.Dense(1, activation = tf.keras.activations.sigmoid)\n",
        "])\n",
        "\n",
        "#2. Compile the model\n",
        "model_6.compile(loss=tf.keras.losses.BinaryFocalCrossentropy(),\n",
        "                optimizer=tf.keras.optimizers.Adam(lr=0.001),\n",
        "                metrics=[\"accuracy\"])\n",
        "\n",
        "#3. Fit the model\n",
        "\n",
        "history = model_6.fit(X,y, epochs=200, verbose = 0)"
      ],
      "metadata": {
        "colab": {
          "base_uri": "https://localhost:8080/"
        },
        "id": "yljx7dKGlVwV",
        "outputId": "994e3745-47fe-4e7f-c893-be027804eb36"
      },
      "execution_count": null,
      "outputs": [
        {
          "output_type": "stream",
          "name": "stderr",
          "text": [
            "WARNING:absl:`lr` is deprecated, please use `learning_rate` instead, or use the legacy optimizer, e.g.,tf.keras.optimizers.legacy.Adam.\n"
          ]
        }
      ]
    },
    {
      "cell_type": "code",
      "source": [
        "# EValuate the model\n",
        "model_6.evaluate(X,y)"
      ],
      "metadata": {
        "colab": {
          "base_uri": "https://localhost:8080/"
        },
        "id": "BF23VWZ3lyRX",
        "outputId": "97f6f8fa-bc1b-484d-93a8-4911e9bc8f1b"
      },
      "execution_count": null,
      "outputs": [
        {
          "output_type": "stream",
          "name": "stdout",
          "text": [
            "32/32 [==============================] - 0s 1ms/step - loss: 0.0170 - accuracy: 0.9880\n"
          ]
        },
        {
          "output_type": "execute_result",
          "data": {
            "text/plain": [
              "[0.016977662220597267, 0.9879999756813049]"
            ]
          },
          "metadata": {},
          "execution_count": 16
        }
      ]
    },
    {
      "cell_type": "code",
      "source": [
        "import pandas as pd\n",
        "pd.DataFrame(history.history)"
      ],
      "metadata": {
        "id": "4iFdwyEVnee_",
        "colab": {
          "base_uri": "https://localhost:8080/",
          "height": 423
        },
        "outputId": "05bb8fd4-362a-484f-8c5f-132860d1dda7"
      },
      "execution_count": null,
      "outputs": [
        {
          "output_type": "execute_result",
          "data": {
            "text/plain": [
              "         loss  accuracy\n",
              "0    0.174849     0.506\n",
              "1    0.174071     0.509\n",
              "2    0.173351     0.522\n",
              "3    0.172844     0.521\n",
              "4    0.172369     0.530\n",
              "..        ...       ...\n",
              "195  0.017692     0.988\n",
              "196  0.017779     0.989\n",
              "197  0.017606     0.985\n",
              "198  0.017259     0.987\n",
              "199  0.017846     0.985\n",
              "\n",
              "[200 rows x 2 columns]"
            ],
            "text/html": [
              "\n",
              "  <div id=\"df-3c65f1bb-c37b-44d7-ac6d-9d64e7bf5b20\">\n",
              "    <div class=\"colab-df-container\">\n",
              "      <div>\n",
              "<style scoped>\n",
              "    .dataframe tbody tr th:only-of-type {\n",
              "        vertical-align: middle;\n",
              "    }\n",
              "\n",
              "    .dataframe tbody tr th {\n",
              "        vertical-align: top;\n",
              "    }\n",
              "\n",
              "    .dataframe thead th {\n",
              "        text-align: right;\n",
              "    }\n",
              "</style>\n",
              "<table border=\"1\" class=\"dataframe\">\n",
              "  <thead>\n",
              "    <tr style=\"text-align: right;\">\n",
              "      <th></th>\n",
              "      <th>loss</th>\n",
              "      <th>accuracy</th>\n",
              "    </tr>\n",
              "  </thead>\n",
              "  <tbody>\n",
              "    <tr>\n",
              "      <th>0</th>\n",
              "      <td>0.174849</td>\n",
              "      <td>0.506</td>\n",
              "    </tr>\n",
              "    <tr>\n",
              "      <th>1</th>\n",
              "      <td>0.174071</td>\n",
              "      <td>0.509</td>\n",
              "    </tr>\n",
              "    <tr>\n",
              "      <th>2</th>\n",
              "      <td>0.173351</td>\n",
              "      <td>0.522</td>\n",
              "    </tr>\n",
              "    <tr>\n",
              "      <th>3</th>\n",
              "      <td>0.172844</td>\n",
              "      <td>0.521</td>\n",
              "    </tr>\n",
              "    <tr>\n",
              "      <th>4</th>\n",
              "      <td>0.172369</td>\n",
              "      <td>0.530</td>\n",
              "    </tr>\n",
              "    <tr>\n",
              "      <th>...</th>\n",
              "      <td>...</td>\n",
              "      <td>...</td>\n",
              "    </tr>\n",
              "    <tr>\n",
              "      <th>195</th>\n",
              "      <td>0.017692</td>\n",
              "      <td>0.988</td>\n",
              "    </tr>\n",
              "    <tr>\n",
              "      <th>196</th>\n",
              "      <td>0.017779</td>\n",
              "      <td>0.989</td>\n",
              "    </tr>\n",
              "    <tr>\n",
              "      <th>197</th>\n",
              "      <td>0.017606</td>\n",
              "      <td>0.985</td>\n",
              "    </tr>\n",
              "    <tr>\n",
              "      <th>198</th>\n",
              "      <td>0.017259</td>\n",
              "      <td>0.987</td>\n",
              "    </tr>\n",
              "    <tr>\n",
              "      <th>199</th>\n",
              "      <td>0.017846</td>\n",
              "      <td>0.985</td>\n",
              "    </tr>\n",
              "  </tbody>\n",
              "</table>\n",
              "<p>200 rows × 2 columns</p>\n",
              "</div>\n",
              "      <button class=\"colab-df-convert\" onclick=\"convertToInteractive('df-3c65f1bb-c37b-44d7-ac6d-9d64e7bf5b20')\"\n",
              "              title=\"Convert this dataframe to an interactive table.\"\n",
              "              style=\"display:none;\">\n",
              "        \n",
              "  <svg xmlns=\"http://www.w3.org/2000/svg\" height=\"24px\"viewBox=\"0 0 24 24\"\n",
              "       width=\"24px\">\n",
              "    <path d=\"M0 0h24v24H0V0z\" fill=\"none\"/>\n",
              "    <path d=\"M18.56 5.44l.94 2.06.94-2.06 2.06-.94-2.06-.94-.94-2.06-.94 2.06-2.06.94zm-11 1L8.5 8.5l.94-2.06 2.06-.94-2.06-.94L8.5 2.5l-.94 2.06-2.06.94zm10 10l.94 2.06.94-2.06 2.06-.94-2.06-.94-.94-2.06-.94 2.06-2.06.94z\"/><path d=\"M17.41 7.96l-1.37-1.37c-.4-.4-.92-.59-1.43-.59-.52 0-1.04.2-1.43.59L10.3 9.45l-7.72 7.72c-.78.78-.78 2.05 0 2.83L4 21.41c.39.39.9.59 1.41.59.51 0 1.02-.2 1.41-.59l7.78-7.78 2.81-2.81c.8-.78.8-2.07 0-2.86zM5.41 20L4 18.59l7.72-7.72 1.47 1.35L5.41 20z\"/>\n",
              "  </svg>\n",
              "      </button>\n",
              "      \n",
              "  <style>\n",
              "    .colab-df-container {\n",
              "      display:flex;\n",
              "      flex-wrap:wrap;\n",
              "      gap: 12px;\n",
              "    }\n",
              "\n",
              "    .colab-df-convert {\n",
              "      background-color: #E8F0FE;\n",
              "      border: none;\n",
              "      border-radius: 50%;\n",
              "      cursor: pointer;\n",
              "      display: none;\n",
              "      fill: #1967D2;\n",
              "      height: 32px;\n",
              "      padding: 0 0 0 0;\n",
              "      width: 32px;\n",
              "    }\n",
              "\n",
              "    .colab-df-convert:hover {\n",
              "      background-color: #E2EBFA;\n",
              "      box-shadow: 0px 1px 2px rgba(60, 64, 67, 0.3), 0px 1px 3px 1px rgba(60, 64, 67, 0.15);\n",
              "      fill: #174EA6;\n",
              "    }\n",
              "\n",
              "    [theme=dark] .colab-df-convert {\n",
              "      background-color: #3B4455;\n",
              "      fill: #D2E3FC;\n",
              "    }\n",
              "\n",
              "    [theme=dark] .colab-df-convert:hover {\n",
              "      background-color: #434B5C;\n",
              "      box-shadow: 0px 1px 3px 1px rgba(0, 0, 0, 0.15);\n",
              "      filter: drop-shadow(0px 1px 2px rgba(0, 0, 0, 0.3));\n",
              "      fill: #FFFFFF;\n",
              "    }\n",
              "  </style>\n",
              "\n",
              "      <script>\n",
              "        const buttonEl =\n",
              "          document.querySelector('#df-3c65f1bb-c37b-44d7-ac6d-9d64e7bf5b20 button.colab-df-convert');\n",
              "        buttonEl.style.display =\n",
              "          google.colab.kernel.accessAllowed ? 'block' : 'none';\n",
              "\n",
              "        async function convertToInteractive(key) {\n",
              "          const element = document.querySelector('#df-3c65f1bb-c37b-44d7-ac6d-9d64e7bf5b20');\n",
              "          const dataTable =\n",
              "            await google.colab.kernel.invokeFunction('convertToInteractive',\n",
              "                                                     [key], {});\n",
              "          if (!dataTable) return;\n",
              "\n",
              "          const docLinkHtml = 'Like what you see? Visit the ' +\n",
              "            '<a target=\"_blank\" href=https://colab.research.google.com/notebooks/data_table.ipynb>data table notebook</a>'\n",
              "            + ' to learn more about interactive tables.';\n",
              "          element.innerHTML = '';\n",
              "          dataTable['output_type'] = 'display_data';\n",
              "          await google.colab.output.renderOutput(dataTable, element);\n",
              "          const docLink = document.createElement('div');\n",
              "          docLink.innerHTML = docLinkHtml;\n",
              "          element.appendChild(docLink);\n",
              "        }\n",
              "      </script>\n",
              "    </div>\n",
              "  </div>\n",
              "  "
            ]
          },
          "metadata": {},
          "execution_count": 17
        }
      ]
    },
    {
      "cell_type": "code",
      "source": [
        "# Plot Loss Curve\n",
        "import matplotlib.pyplot as plt\n",
        "\n",
        "pd.DataFrame(history.history).plot()\n",
        "plt.title(\"Model_6 loss curves\")\n"
      ],
      "metadata": {
        "colab": {
          "base_uri": "https://localhost:8080/",
          "height": 299
        },
        "id": "-ovnoYjGUFma",
        "outputId": "5b7d4bd5-9c3a-4335-e3e5-ba2041dfea1b"
      },
      "execution_count": null,
      "outputs": [
        {
          "output_type": "execute_result",
          "data": {
            "text/plain": [
              "Text(0.5, 1.0, 'Model_6 loss curves')"
            ]
          },
          "metadata": {},
          "execution_count": 18
        },
        {
          "output_type": "display_data",
          "data": {
            "text/plain": [
              "<Figure size 432x288 with 1 Axes>"
            ],
            "image/png": "[encoded data removed]"
          },
          "metadata": {
            "needs_background": "light"
          }
        }
      ]
    },
    {
      "cell_type": "markdown",
      "source": [
        "## Finding the Best learning rate\n",
        "* A learning rate callback"
      ],
      "metadata": {
        "id": "NjUQfAvjXdwg"
      }
    },
    {
      "cell_type": "code",
      "source": [
        "## Finding the best learning rate\n",
        "# Set random eed\n",
        "tf.random.set_seed(42)\n",
        "\n",
        "# Create a model\n",
        "model_9 =tf.keras.Sequential([\n",
        "    tf.keras.layers.Dense(4, activation=\"relu\"),\n",
        "    tf.keras.layers.Dense(4, activation=\"relu\"),\n",
        "    tf.keras.layers.Dense(1,activation=\"sigmoid\")\n",
        "    ])\n",
        "\n",
        "# Compile the Model\n",
        "model_9.compile(loss=\"binary_crossentropy\",\n",
        "                optimizer=\"Adam\",\n",
        "                metrics=[\"accuracy\"])\n",
        "\n",
        "# create a learning rate calback\n",
        "lr_schedule = tf.keras.callbacks.LearningRateScheduler(lambda epoch: 1e-4 * 10**(epoch/20))\n",
        "\n",
        "# Fit the Model (passign lr_schedule callback)\n",
        "\n",
        "history_9 = model_9.fit(X,\n",
        "                        y,\n",
        "                        epochs=100,\n",
        "                        callbacks = lr_schedule)\n",
        "\n"
      ],
      "metadata": {
        "colab": {
          "base_uri": "https://localhost:8080/"
        },
        "id": "7crTl6yeVhit",
        "outputId": "cb0b8403-107e-48d5-d2f2-746a1b4b0072"
      },
      "execution_count": null,
      "outputs": [
        {
          "output_type": "stream",
          "name": "stdout",
          "text": [
            "Epoch 1/100\n",
            "32/32 [==============================] - 1s 2ms/step - loss: 0.7109 - accuracy: 0.4970 - lr: 1.0000e-04\n",
            "Epoch 2/100\n",
            "32/32 [==============================] - 0s 2ms/step - loss: 0.7103 - accuracy: 0.4950 - lr: 1.1220e-04\n",
            "Epoch 3/100\n",
            "32/32 [==============================] - 0s 3ms/step - loss: 0.7097 - accuracy: 0.4570 - lr: 1.2589e-04\n",
            "Epoch 4/100\n",
            "32/32 [==============================] - 0s 3ms/step - loss: 0.7090 - accuracy: 0.4940 - lr: 1.4125e-04\n",
            "Epoch 5/100\n",
            "32/32 [==============================] - 0s 3ms/step - loss: 0.7083 - accuracy: 0.4960 - lr: 1.5849e-04\n",
            "Epoch 6/100\n",
            "32/32 [==============================] - 0s 2ms/step - loss: 0.7076 - accuracy: 0.4950 - lr: 1.7783e-04\n",
            "Epoch 7/100\n",
            "32/32 [==============================] - 0s 3ms/step - loss: 0.7069 - accuracy: 0.4940 - lr: 1.9953e-04\n",
            "Epoch 8/100\n",
            "32/32 [==============================] - 0s 2ms/step - loss: 0.7062 - accuracy: 0.4910 - lr: 2.2387e-04\n",
            "Epoch 9/100\n",
            "32/32 [==============================] - 0s 3ms/step - loss: 0.7054 - accuracy: 0.4860 - lr: 2.5119e-04\n",
            "Epoch 10/100\n",
            "32/32 [==============================] - 0s 2ms/step - loss: 0.7046 - accuracy: 0.4880 - lr: 2.8184e-04\n",
            "Epoch 11/100\n",
            "32/32 [==============================] - 0s 3ms/step - loss: 0.7038 - accuracy: 0.4800 - lr: 3.1623e-04\n",
            "Epoch 12/100\n",
            "32/32 [==============================] - 0s 3ms/step - loss: 0.7030 - accuracy: 0.4650 - lr: 3.5481e-04\n",
            "Epoch 13/100\n",
            "32/32 [==============================] - 0s 2ms/step - loss: 0.7022 - accuracy: 0.4680 - lr: 3.9811e-04\n",
            "Epoch 14/100\n",
            "32/32 [==============================] - 0s 2ms/step - loss: 0.7014 - accuracy: 0.4840 - lr: 4.4668e-04\n",
            "Epoch 15/100\n",
            "32/32 [==============================] - 0s 2ms/step - loss: 0.7006 - accuracy: 0.4900 - lr: 5.0119e-04\n",
            "Epoch 16/100\n",
            "32/32 [==============================] - 0s 3ms/step - loss: 0.6998 - accuracy: 0.4890 - lr: 5.6234e-04\n",
            "Epoch 17/100\n",
            "32/32 [==============================] - 0s 3ms/step - loss: 0.6990 - accuracy: 0.4850 - lr: 6.3096e-04\n",
            "Epoch 18/100\n",
            "32/32 [==============================] - 0s 3ms/step - loss: 0.6982 - accuracy: 0.4810 - lr: 7.0795e-04\n",
            "Epoch 19/100\n",
            "32/32 [==============================] - 0s 3ms/step - loss: 0.6975 - accuracy: 0.4780 - lr: 7.9433e-04\n",
            "Epoch 20/100\n",
            "32/32 [==============================] - 0s 3ms/step - loss: 0.6968 - accuracy: 0.4800 - lr: 8.9125e-04\n",
            "Epoch 21/100\n",
            "32/32 [==============================] - 0s 3ms/step - loss: 0.6961 - accuracy: 0.4780 - lr: 0.0010\n",
            "Epoch 22/100\n",
            "32/32 [==============================] - 0s 3ms/step - loss: 0.6954 - accuracy: 0.4790 - lr: 0.0011\n",
            "Epoch 23/100\n",
            "32/32 [==============================] - 0s 3ms/step - loss: 0.6946 - accuracy: 0.4730 - lr: 0.0013\n",
            "Epoch 24/100\n",
            "32/32 [==============================] - 0s 2ms/step - loss: 0.6937 - accuracy: 0.4600 - lr: 0.0014\n",
            "Epoch 25/100\n",
            "32/32 [==============================] - 0s 2ms/step - loss: 0.6928 - accuracy: 0.4550 - lr: 0.0016\n",
            "Epoch 26/100\n",
            "32/32 [==============================] - 0s 3ms/step - loss: 0.6916 - accuracy: 0.4870 - lr: 0.0018\n",
            "Epoch 27/100\n",
            "32/32 [==============================] - 0s 2ms/step - loss: 0.6905 - accuracy: 0.5220 - lr: 0.0020\n",
            "Epoch 28/100\n",
            "32/32 [==============================] - 0s 2ms/step - loss: 0.6884 - accuracy: 0.5200 - lr: 0.0022\n",
            "Epoch 29/100\n",
            "32/32 [==============================] - 0s 2ms/step - loss: 0.6867 - accuracy: 0.5260 - lr: 0.0025\n",
            "Epoch 30/100\n",
            "32/32 [==============================] - 0s 3ms/step - loss: 0.6840 - accuracy: 0.5370 - lr: 0.0028\n",
            "Epoch 31/100\n",
            "32/32 [==============================] - 0s 3ms/step - loss: 0.6800 - accuracy: 0.5410 - lr: 0.0032\n",
            "Epoch 32/100\n",
            "32/32 [==============================] - 0s 3ms/step - loss: 0.6736 - accuracy: 0.5350 - lr: 0.0035\n",
            "Epoch 33/100\n",
            "32/32 [==============================] - 0s 3ms/step - loss: 0.6617 - accuracy: 0.6000 - lr: 0.0040\n",
            "Epoch 34/100\n",
            "32/32 [==============================] - 0s 3ms/step - loss: 0.6466 - accuracy: 0.6480 - lr: 0.0045\n",
            "Epoch 35/100\n",
            "32/32 [==============================] - 0s 2ms/step - loss: 0.6194 - accuracy: 0.6480 - lr: 0.0050\n",
            "Epoch 36/100\n",
            "32/32 [==============================] - 0s 2ms/step - loss: 0.5857 - accuracy: 0.7440 - lr: 0.0056\n",
            "Epoch 37/100\n",
            "32/32 [==============================] - 0s 3ms/step - loss: 0.5452 - accuracy: 0.7660 - lr: 0.0063\n",
            "Epoch 38/100\n",
            "32/32 [==============================] - 0s 3ms/step - loss: 0.5043 - accuracy: 0.8080 - lr: 0.0071\n",
            "Epoch 39/100\n",
            "32/32 [==============================] - 0s 2ms/step - loss: 0.4815 - accuracy: 0.8030 - lr: 0.0079\n",
            "Epoch 40/100\n",
            "32/32 [==============================] - 0s 2ms/step - loss: 0.4500 - accuracy: 0.8280 - lr: 0.0089\n",
            "Epoch 41/100\n",
            "32/32 [==============================] - 0s 2ms/step - loss: 0.4248 - accuracy: 0.8320 - lr: 0.0100\n",
            "Epoch 42/100\n",
            "32/32 [==============================] - 0s 2ms/step - loss: 0.3886 - accuracy: 0.8580 - lr: 0.0112\n",
            "Epoch 43/100\n",
            "32/32 [==============================] - 0s 2ms/step - loss: 0.3772 - accuracy: 0.8570 - lr: 0.0126\n",
            "Epoch 44/100\n",
            "32/32 [==============================] - 0s 2ms/step - loss: 0.3577 - accuracy: 0.8590 - lr: 0.0141\n",
            "Epoch 45/100\n",
            "32/32 [==============================] - 0s 2ms/step - loss: 0.3427 - accuracy: 0.8740 - lr: 0.0158\n",
            "Epoch 46/100\n",
            "32/32 [==============================] - 0s 2ms/step - loss: 0.3444 - accuracy: 0.8560 - lr: 0.0178\n",
            "Epoch 47/100\n",
            "32/32 [==============================] - 0s 2ms/step - loss: 0.3206 - accuracy: 0.8670 - lr: 0.0200\n",
            "Epoch 48/100\n",
            "32/32 [==============================] - 0s 2ms/step - loss: 0.3129 - accuracy: 0.8740 - lr: 0.0224\n",
            "Epoch 49/100\n",
            "32/32 [==============================] - 0s 2ms/step - loss: 0.2303 - accuracy: 0.9180 - lr: 0.0251\n",
            "Epoch 50/100\n",
            "32/32 [==============================] - 0s 2ms/step - loss: 0.1697 - accuracy: 0.9380 - lr: 0.0282\n",
            "Epoch 51/100\n",
            "32/32 [==============================] - 0s 2ms/step - loss: 0.1597 - accuracy: 0.9450 - lr: 0.0316\n",
            "Epoch 52/100\n",
            "32/32 [==============================] - 0s 2ms/step - loss: 0.1427 - accuracy: 0.9400 - lr: 0.0355\n",
            "Epoch 53/100\n",
            "32/32 [==============================] - 0s 2ms/step - loss: 0.2636 - accuracy: 0.8970 - lr: 0.0398\n",
            "Epoch 54/100\n",
            "32/32 [==============================] - 0s 2ms/step - loss: 0.1485 - accuracy: 0.9480 - lr: 0.0447\n",
            "Epoch 55/100\n",
            "32/32 [==============================] - 0s 2ms/step - loss: 0.1360 - accuracy: 0.9440 - lr: 0.0501\n",
            "Epoch 56/100\n",
            "32/32 [==============================] - 0s 2ms/step - loss: 0.1039 - accuracy: 0.9620 - lr: 0.0562\n",
            "Epoch 57/100\n",
            "32/32 [==============================] - 0s 2ms/step - loss: 0.1469 - accuracy: 0.9350 - lr: 0.0631\n",
            "Epoch 58/100\n",
            "32/32 [==============================] - 0s 2ms/step - loss: 0.1982 - accuracy: 0.9260 - lr: 0.0708\n",
            "Epoch 59/100\n",
            "32/32 [==============================] - 0s 2ms/step - loss: 0.3280 - accuracy: 0.8720 - lr: 0.0794\n",
            "Epoch 60/100\n",
            "32/32 [==============================] - 0s 2ms/step - loss: 0.1732 - accuracy: 0.9260 - lr: 0.0891\n",
            "Epoch 61/100\n",
            "32/32 [==============================] - 0s 2ms/step - loss: 0.3449 - accuracy: 0.8600 - lr: 0.1000\n",
            "Epoch 62/100\n",
            "32/32 [==============================] - 0s 2ms/step - loss: 0.2218 - accuracy: 0.9180 - lr: 0.1122\n",
            "Epoch 63/100\n",
            "32/32 [==============================] - 0s 2ms/step - loss: 0.2412 - accuracy: 0.8900 - lr: 0.1259\n",
            "Epoch 64/100\n",
            "32/32 [==============================] - 0s 2ms/step - loss: 0.1366 - accuracy: 0.9460 - lr: 0.1413\n",
            "Epoch 65/100\n",
            "32/32 [==============================] - 0s 2ms/step - loss: 0.2331 - accuracy: 0.9010 - lr: 0.1585\n",
            "Epoch 66/100\n",
            "32/32 [==============================] - 0s 2ms/step - loss: 0.2777 - accuracy: 0.8920 - lr: 0.1778\n",
            "Epoch 67/100\n",
            "32/32 [==============================] - 0s 2ms/step - loss: 0.1541 - accuracy: 0.9470 - lr: 0.1995\n",
            "Epoch 68/100\n",
            "32/32 [==============================] - 0s 2ms/step - loss: 0.5805 - accuracy: 0.7670 - lr: 0.2239\n",
            "Epoch 69/100\n",
            "32/32 [==============================] - 0s 2ms/step - loss: 0.4929 - accuracy: 0.7630 - lr: 0.2512\n",
            "Epoch 70/100\n",
            "32/32 [==============================] - 0s 2ms/step - loss: 0.4829 - accuracy: 0.7710 - lr: 0.2818\n",
            "Epoch 71/100\n",
            "32/32 [==============================] - 0s 2ms/step - loss: 0.5669 - accuracy: 0.6700 - lr: 0.3162\n",
            "Epoch 72/100\n",
            "32/32 [==============================] - 0s 2ms/step - loss: 0.5453 - accuracy: 0.7090 - lr: 0.3548\n",
            "Epoch 73/100\n",
            "32/32 [==============================] - 0s 2ms/step - loss: 0.5368 - accuracy: 0.7200 - lr: 0.3981\n",
            "Epoch 74/100\n",
            "32/32 [==============================] - 0s 2ms/step - loss: 0.4341 - accuracy: 0.8040 - lr: 0.4467\n",
            "Epoch 75/100\n",
            "32/32 [==============================] - 0s 2ms/step - loss: 0.4686 - accuracy: 0.7890 - lr: 0.5012\n",
            "Epoch 76/100\n",
            "32/32 [==============================] - 0s 2ms/step - loss: 0.4602 - accuracy: 0.7830 - lr: 0.5623\n",
            "Epoch 77/100\n",
            "32/32 [==============================] - 0s 2ms/step - loss: 0.5846 - accuracy: 0.6760 - lr: 0.6310\n",
            "Epoch 78/100\n",
            "32/32 [==============================] - 0s 3ms/step - loss: 0.6468 - accuracy: 0.5940 - lr: 0.7079\n",
            "Epoch 79/100\n",
            "32/32 [==============================] - 0s 2ms/step - loss: 0.6411 - accuracy: 0.5850 - lr: 0.7943\n",
            "Epoch 80/100\n",
            "32/32 [==============================] - 0s 2ms/step - loss: 0.6457 - accuracy: 0.6140 - lr: 0.8913\n",
            "Epoch 81/100\n",
            "32/32 [==============================] - 0s 2ms/step - loss: 0.7088 - accuracy: 0.4980 - lr: 1.0000\n",
            "Epoch 82/100\n",
            "32/32 [==============================] - 0s 2ms/step - loss: 0.7118 - accuracy: 0.5120 - lr: 1.1220\n",
            "Epoch 83/100\n",
            "32/32 [==============================] - 0s 2ms/step - loss: 0.7353 - accuracy: 0.5020 - lr: 1.2589\n",
            "Epoch 84/100\n",
            "32/32 [==============================] - 0s 2ms/step - loss: 0.7882 - accuracy: 0.4760 - lr: 1.4125\n",
            "Epoch 85/100\n",
            "32/32 [==============================] - 0s 2ms/step - loss: 0.7101 - accuracy: 0.4820 - lr: 1.5849\n",
            "Epoch 86/100\n",
            "32/32 [==============================] - 0s 2ms/step - loss: 0.7132 - accuracy: 0.5040 - lr: 1.7783\n",
            "Epoch 87/100\n",
            "32/32 [==============================] - 0s 2ms/step - loss: 0.7187 - accuracy: 0.4940 - lr: 1.9953\n",
            "Epoch 88/100\n",
            "32/32 [==============================] - 0s 2ms/step - loss: 0.7117 - accuracy: 0.4880 - lr: 2.2387\n",
            "Epoch 89/100\n",
            "32/32 [==============================] - 0s 2ms/step - loss: 0.7434 - accuracy: 0.4720 - lr: 2.5119\n",
            "Epoch 90/100\n",
            "32/32 [==============================] - 0s 2ms/step - loss: 0.8366 - accuracy: 0.5080 - lr: 2.8184\n",
            "Epoch 91/100\n",
            "32/32 [==============================] - 0s 2ms/step - loss: 0.8007 - accuracy: 0.5120 - lr: 3.1623\n",
            "Epoch 92/100\n",
            "32/32 [==============================] - 0s 2ms/step - loss: 0.7896 - accuracy: 0.5120 - lr: 3.5481\n",
            "Epoch 93/100\n",
            "32/32 [==============================] - 0s 2ms/step - loss: 0.7406 - accuracy: 0.5220 - lr: 3.9811\n",
            "Epoch 94/100\n",
            "32/32 [==============================] - 0s 2ms/step - loss: 0.7452 - accuracy: 0.5060 - lr: 4.4668\n",
            "Epoch 95/100\n",
            "32/32 [==============================] - 0s 2ms/step - loss: 0.7354 - accuracy: 0.4880 - lr: 5.0119\n",
            "Epoch 96/100\n",
            "32/32 [==============================] - 0s 2ms/step - loss: 0.7726 - accuracy: 0.4820 - lr: 5.6234\n",
            "Epoch 97/100\n",
            "32/32 [==============================] - 0s 2ms/step - loss: 0.7685 - accuracy: 0.5040 - lr: 6.3096\n",
            "Epoch 98/100\n",
            "32/32 [==============================] - 0s 2ms/step - loss: 0.9403 - accuracy: 0.4840 - lr: 7.0795\n",
            "Epoch 99/100\n",
            "32/32 [==============================] - 0s 2ms/step - loss: 0.7530 - accuracy: 0.5080 - lr: 7.9433\n",
            "Epoch 100/100\n",
            "32/32 [==============================] - 0s 2ms/step - loss: 0.9071 - accuracy: 0.5060 - lr: 8.9125\n"
          ]
        }
      ]
    },
    {
      "cell_type": "code",
      "source": [
        "# Checkout the history\n",
        "pd.DataFrame(history_9.history).plot(figsize=(10,7), xlabel=\"epochs\");"
      ],
      "metadata": {
        "colab": {
          "base_uri": "https://localhost:8080/",
          "height": 442
        },
        "id": "9Ts47Q_arsKT",
        "outputId": "53a6daeb-7824-4cf4-f329-474c69d4431f"
      },
      "execution_count": null,
      "outputs": [
        {
          "output_type": "display_data",
          "data": {
            "text/plain": [
              "<Figure size 720x504 with 1 Axes>"
            ],
            "image/png": "[encoded data removed]"
          },
          "metadata": {
            "needs_background": "light"
          }
        }
      ]
    },
    {
      "cell_type": "code",
      "source": [
        "# Plot the learnng rate vs the loss\n",
        "lrs = 1e-4 * (10 ** (tf.range(100)/20))\n",
        "lrs\n",
        "plt.figure(figsize=(10,7))\n",
        "plt.semilogx(lrs,history_9.history[\"loss\"])\n",
        "plt.xlabel(\"Learning Rate\")\n",
        "plt.ylabel(\"Loss\")\n",
        "plt.title(\"Learning Rate Vs. Loss\");"
      ],
      "metadata": {
        "id": "sE6tYY3SseC7",
        "colab": {
          "base_uri": "https://localhost:8080/",
          "height": 462
        },
        "outputId": "fc816d2b-f840-43da-a732-121dfcc2564c"
      },
      "execution_count": null,
      "outputs": [
        {
          "output_type": "display_data",
          "data": {
            "text/plain": [
              "<Figure size 720x504 with 1 Axes>"
            ],
            "image/png": "[encoded data removed]"
          },
          "metadata": {
            "needs_background": "light"
          }
        }
      ]
    },
    {
      "cell_type": "markdown",
      "source": [
        "## Model with Higher Learning rate"
      ],
      "metadata": {
        "id": "8MHXfN3BhhBR"
      }
    },
    {
      "cell_type": "code",
      "source": [
        "# Set random seed\n",
        "tf.random.set_seed(42)\n",
        "\n",
        "#1. Create a model with a non-linear activation\n",
        "\n",
        "model_10 = tf.keras.Sequential([\n",
        "    tf.keras.layers.Dense(4,activation=tf.keras.activations.relu),\n",
        "    tf.keras.layers.Dense(4,activation=tf.keras.activations.relu),\n",
        "    tf.keras.layers.Dense(1, activation = tf.keras.activations.sigmoid)\n",
        "])\n",
        "\n",
        "#2. Compile the model\n",
        "model_10.compile(loss=tf.keras.losses.BinaryFocalCrossentropy(),\n",
        "                optimizer=tf.keras.optimizers.Adam(lr=0.02),\n",
        "                metrics=[\"accuracy\"])\n",
        "\n",
        "#3. Fit the model\n",
        "\n",
        "history = model_10.fit(X,y, epochs=20)"
      ],
      "metadata": {
        "colab": {
          "base_uri": "https://localhost:8080/"
        },
        "id": "cRXiIdQxeQpL",
        "outputId": "b53d7c30-04ae-412b-9638-4564bc93987a"
      },
      "execution_count": null,
      "outputs": [
        {
          "output_type": "stream",
          "name": "stderr",
          "text": [
            "WARNING:absl:`lr` is deprecated, please use `learning_rate` instead, or use the legacy optimizer, e.g.,tf.keras.optimizers.legacy.Adam.\n"
          ]
        },
        {
          "output_type": "stream",
          "name": "stdout",
          "text": [
            "Epoch 1/20\n",
            "32/32 [==============================] - 1s 2ms/step - loss: 0.2241 - accuracy: 0.4970\n",
            "Epoch 2/20\n",
            "32/32 [==============================] - 0s 2ms/step - loss: 0.2021 - accuracy: 0.4920\n",
            "Epoch 3/20\n",
            "32/32 [==============================] - 0s 2ms/step - loss: 0.1909 - accuracy: 0.4860\n",
            "Epoch 4/20\n",
            "32/32 [==============================] - 0s 2ms/step - loss: 0.1855 - accuracy: 0.4780\n",
            "Epoch 5/20\n",
            "32/32 [==============================] - 0s 2ms/step - loss: 0.1829 - accuracy: 0.4660\n",
            "Epoch 6/20\n",
            "32/32 [==============================] - 0s 2ms/step - loss: 0.1815 - accuracy: 0.4000\n",
            "Epoch 7/20\n",
            "32/32 [==============================] - 0s 2ms/step - loss: 0.1805 - accuracy: 0.3500\n",
            "Epoch 8/20\n",
            "32/32 [==============================] - 0s 2ms/step - loss: 0.1796 - accuracy: 0.3270\n",
            "Epoch 9/20\n",
            "32/32 [==============================] - 0s 2ms/step - loss: 0.1784 - accuracy: 0.3220\n",
            "Epoch 10/20\n",
            "32/32 [==============================] - 0s 2ms/step - loss: 0.1762 - accuracy: 0.3920\n",
            "Epoch 11/20\n",
            "32/32 [==============================] - 0s 2ms/step - loss: 0.1737 - accuracy: 0.4880\n",
            "Epoch 12/20\n",
            "32/32 [==============================] - 0s 2ms/step - loss: 0.1722 - accuracy: 0.5680\n",
            "Epoch 13/20\n",
            "32/32 [==============================] - 0s 2ms/step - loss: 0.1710 - accuracy: 0.5560\n",
            "Epoch 14/20\n",
            "32/32 [==============================] - 0s 2ms/step - loss: 0.1706 - accuracy: 0.5680\n",
            "Epoch 15/20\n",
            "32/32 [==============================] - 0s 2ms/step - loss: 0.1704 - accuracy: 0.5660\n",
            "Epoch 16/20\n",
            "32/32 [==============================] - 0s 2ms/step - loss: 0.1702 - accuracy: 0.5710\n",
            "Epoch 17/20\n",
            "32/32 [==============================] - 0s 2ms/step - loss: 0.1700 - accuracy: 0.5720\n",
            "Epoch 18/20\n",
            "32/32 [==============================] - 0s 3ms/step - loss: 0.1699 - accuracy: 0.5700\n",
            "Epoch 19/20\n",
            "32/32 [==============================] - 0s 2ms/step - loss: 0.1698 - accuracy: 0.5840\n",
            "Epoch 20/20\n",
            "32/32 [==============================] - 0s 3ms/step - loss: 0.1696 - accuracy: 0.5700\n"
          ]
        }
      ]
    },
    {
      "cell_type": "markdown",
      "source": [
        "## More classification Evaluation Methods\n",
        "* Accuracy\n",
        "* Precision\n",
        "* Recall\n",
        "* F1- Score\n",
        "* Confusion Matrix\n",
        "* Classification Report (https://scikit-learn.org/stable/modules/generated/sklearn.metrics.classification_report.html)\n"
      ],
      "metadata": {
        "id": "psHHPD1bsmok"
      }
    },
    {
      "cell_type": "code",
      "source": [
        "# Check accruracy of the Model\n",
        "loss, accuracy = model_6.evaluate(X,y)\n",
        "print(f\"Model loss on the test set: {loss}\")\n",
        "print(f\"Model accuracy on the test set: {(accuracy*100): .2f}%\")"
      ],
      "metadata": {
        "colab": {
          "base_uri": "https://localhost:8080/"
        },
        "id": "IMHAdAVFhskM",
        "outputId": "afdaa7bc-7f6a-4533-e27a-195831dd43d6"
      },
      "execution_count": null,
      "outputs": [
        {
          "output_type": "stream",
          "name": "stdout",
          "text": [
            "32/32 [==============================] - 0s 2ms/step - loss: 0.0170 - accuracy: 0.9880\n",
            "Model loss on the test set: 0.016977662220597267\n",
            "Model accuracy on the test set:  98.80%\n"
          ]
        }
      ]
    },
    {
      "cell_type": "markdown",
      "source": [
        "## Working with Multi-class classification"
      ],
      "metadata": {
        "id": "M6jl8lhk6ff0"
      }
    },
    {
      "cell_type": "code",
      "source": [
        "import tensorflow as tf\n",
        "from tensorflow.keras.datasets import fashion_mnist\n",
        "\n",
        "# the data has already been sorted into training and test sets for us\n",
        "(train_data, train_labels), (test_data, test_labels) = fashion_mnist.load_data()"
      ],
      "metadata": {
        "colab": {
          "base_uri": "https://localhost:8080/"
        },
        "id": "L8361fwUvLDf",
        "outputId": "2701e99c-a26e-46c9-b25f-23fe77948a3d"
      },
      "execution_count": null,
      "outputs": [
        {
          "output_type": "stream",
          "name": "stdout",
          "text": [
            "Downloading data from https://storage.googleapis.com/tensorflow/tf-keras-datasets/train-labels-idx1-ubyte.gz\n",
            "29515/29515 [==============================] - 0s 0us/step\n",
            "Downloading data from https://storage.googleapis.com/tensorflow/tf-keras-datasets/train-images-idx3-ubyte.gz\n",
            "26421880/26421880 [==============================] - 0s 0us/step\n",
            "Downloading data from https://storage.googleapis.com/tensorflow/tf-keras-datasets/t10k-labels-idx1-ubyte.gz\n",
            "5148/5148 [==============================] - 0s 0us/step\n",
            "Downloading data from https://storage.googleapis.com/tensorflow/tf-keras-datasets/t10k-images-idx3-ubyte.gz\n",
            "4422102/4422102 [==============================] - 0s 0us/step\n"
          ]
        }
      ]
    },
    {
      "cell_type": "code",
      "source": [
        "# show the 1st training example\n",
        "print(f\"Training sample:\\n{train_data[0]}\\n\")\n",
        "print(f\"Training label:\\n{train_labels[0]}\\n\")"
      ],
      "metadata": {
        "colab": {
          "base_uri": "https://localhost:8080/"
        },
        "id": "WfeQLtGM7705",
        "outputId": "b2150f73-627e-4277-9d4e-61984af1b01a"
      },
      "execution_count": null,
      "outputs": [
        {
          "output_type": "stream",
          "name": "stdout",
          "text": [
            "Training sample:\n",
            "[[  0   0   0   0   0   0   0   0   0   0   0   0   0   0   0   0   0   0\n",
            "    0   0   0   0   0   0   0   0   0   0]\n",
            " [  0   0   0   0   0   0   0   0   0   0   0   0   0   0   0   0   0   0\n",
            "    0   0   0   0   0   0   0   0   0   0]\n",
            " [  0   0   0   0   0   0   0   0   0   0   0   0   0   0   0   0   0   0\n",
            "    0   0   0   0   0   0   0   0   0   0]\n",
            " [  0   0   0   0   0   0   0   0   0   0   0   0   1   0   0  13  73   0\n",
            "    0   1   4   0   0   0   0   1   1   0]\n",
            " [  0   0   0   0   0   0   0   0   0   0   0   0   3   0  36 136 127  62\n",
            "   54   0   0   0   1   3   4   0   0   3]\n",
            " [  0   0   0   0   0   0   0   0   0   0   0   0   6   0 102 204 176 134\n",
            "  144 123  23   0   0   0   0  12  10   0]\n",
            " [  0   0   0   0   0   0   0   0   0   0   0   0   0   0 155 236 207 178\n",
            "  107 156 161 109  64  23  77 130  72  15]\n",
            " [  0   0   0   0   0   0   0   0   0   0   0   1   0  69 207 223 218 216\n",
            "  216 163 127 121 122 146 141  88 172  66]\n",
            " [  0   0   0   0   0   0   0   0   0   1   1   1   0 200 232 232 233 229\n",
            "  223 223 215 213 164 127 123 196 229   0]\n",
            " [  0   0   0   0   0   0   0   0   0   0   0   0   0 183 225 216 223 228\n",
            "  235 227 224 222 224 221 223 245 173   0]\n",
            " [  0   0   0   0   0   0   0   0   0   0   0   0   0 193 228 218 213 198\n",
            "  180 212 210 211 213 223 220 243 202   0]\n",
            " [  0   0   0   0   0   0   0   0   0   1   3   0  12 219 220 212 218 192\n",
            "  169 227 208 218 224 212 226 197 209  52]\n",
            " [  0   0   0   0   0   0   0   0   0   0   6   0  99 244 222 220 218 203\n",
            "  198 221 215 213 222 220 245 119 167  56]\n",
            " [  0   0   0   0   0   0   0   0   0   4   0   0  55 236 228 230 228 240\n",
            "  232 213 218 223 234 217 217 209  92   0]\n",
            " [  0   0   1   4   6   7   2   0   0   0   0   0 237 226 217 223 222 219\n",
            "  222 221 216 223 229 215 218 255  77   0]\n",
            " [  0   3   0   0   0   0   0   0   0  62 145 204 228 207 213 221 218 208\n",
            "  211 218 224 223 219 215 224 244 159   0]\n",
            " [  0   0   0   0  18  44  82 107 189 228 220 222 217 226 200 205 211 230\n",
            "  224 234 176 188 250 248 233 238 215   0]\n",
            " [  0  57 187 208 224 221 224 208 204 214 208 209 200 159 245 193 206 223\n",
            "  255 255 221 234 221 211 220 232 246   0]\n",
            " [  3 202 228 224 221 211 211 214 205 205 205 220 240  80 150 255 229 221\n",
            "  188 154 191 210 204 209 222 228 225   0]\n",
            " [ 98 233 198 210 222 229 229 234 249 220 194 215 217 241  65  73 106 117\n",
            "  168 219 221 215 217 223 223 224 229  29]\n",
            " [ 75 204 212 204 193 205 211 225 216 185 197 206 198 213 240 195 227 245\n",
            "  239 223 218 212 209 222 220 221 230  67]\n",
            " [ 48 203 183 194 213 197 185 190 194 192 202 214 219 221 220 236 225 216\n",
            "  199 206 186 181 177 172 181 205 206 115]\n",
            " [  0 122 219 193 179 171 183 196 204 210 213 207 211 210 200 196 194 191\n",
            "  195 191 198 192 176 156 167 177 210  92]\n",
            " [  0   0  74 189 212 191 175 172 175 181 185 188 189 188 193 198 204 209\n",
            "  210 210 211 188 188 194 192 216 170   0]\n",
            " [  2   0   0   0  66 200 222 237 239 242 246 243 244 221 220 193 191 179\n",
            "  182 182 181 176 166 168  99  58   0   0]\n",
            " [  0   0   0   0   0   0   0  40  61  44  72  41  35   0   0   0   0   0\n",
            "    0   0   0   0   0   0   0   0   0   0]\n",
            " [  0   0   0   0   0   0   0   0   0   0   0   0   0   0   0   0   0   0\n",
            "    0   0   0   0   0   0   0   0   0   0]\n",
            " [  0   0   0   0   0   0   0   0   0   0   0   0   0   0   0   0   0   0\n",
            "    0   0   0   0   0   0   0   0   0   0]]\n",
            "\n",
            "Training label:\n",
            "9\n",
            "\n"
          ]
        }
      ]
    },
    {
      "cell_type": "code",
      "source": [
        "# check the shape of single example\n",
        "train_data[0].shape, train_labels[0].shape"
      ],
      "metadata": {
        "colab": {
          "base_uri": "https://localhost:8080/"
        },
        "id": "LUBlUAYY8N69",
        "outputId": "3d6cb564-a965-4bfe-c364-0af56afeaf83"
      },
      "execution_count": null,
      "outputs": [
        {
          "output_type": "execute_result",
          "data": {
            "text/plain": [
              "((28, 28), ())"
            ]
          },
          "metadata": {},
          "execution_count": 26
        }
      ]
    },
    {
      "cell_type": "code",
      "source": [
        "# Plot single sample\n",
        "import matplotlib.pyplot as plt\n",
        "plt.imshow(train_data[5])\n",
        "\n"
      ],
      "metadata": {
        "colab": {
          "base_uri": "https://localhost:8080/",
          "height": 283
        },
        "id": "FFvlSg3e9OgG",
        "outputId": "09952acc-b0e0-4b28-a221-3dc3bbdeabdc"
      },
      "execution_count": null,
      "outputs": [
        {
          "output_type": "execute_result",
          "data": {
            "text/plain": [
              "<matplotlib.image.AxesImage at 0x7f855dadb670>"
            ]
          },
          "metadata": {},
          "execution_count": 27
        },
        {
          "output_type": "display_data",
          "data": {
            "text/plain": [
              "<Figure size 432x288 with 1 Axes>"
            ],
            "image/png": "[encoded data removed]"
          },
          "metadata": {
            "needs_background": "light"
          }
        }
      ]
    },
    {
      "cell_type": "code",
      "source": [
        "# check labels\n",
        "train_labels[5]"
      ],
      "metadata": {
        "colab": {
          "base_uri": "https://localhost:8080/"
        },
        "id": "oHJ3FKt-9dPE",
        "outputId": "7b5d9310-c970-456d-b52f-cb96ab2ed99e"
      },
      "execution_count": null,
      "outputs": [
        {
          "output_type": "execute_result",
          "data": {
            "text/plain": [
              "2"
            ]
          },
          "metadata": {},
          "execution_count": 28
        }
      ]
    },
    {
      "cell_type": "code",
      "source": [
        "# Create a small list so we can index onto our training labels so they're human-readable\n",
        "\n",
        "class_names = [\"T-shirt/top\", \"Trouser\", \"Pullover\", \"Dress\", \"Coat\", \"Sandal\", \"Shirt\", \"Sneaker\", \"Bag\", \"Ankle boot\"]\n",
        "len(class_names)"
      ],
      "metadata": {
        "id": "TTgeN_-B98yK",
        "colab": {
          "base_uri": "https://localhost:8080/"
        },
        "outputId": "bbc55520-6a1e-4dc5-b8d7-7e9327a95474"
      },
      "execution_count": null,
      "outputs": [
        {
          "output_type": "execute_result",
          "data": {
            "text/plain": [
              "10"
            ]
          },
          "metadata": {},
          "execution_count": 29
        }
      ]
    },
    {
      "cell_type": "code",
      "source": [
        "# Plot and example image and its label\n",
        "import random\n",
        "plt.figure(figsize=(7,7))\n",
        "for i in range(4):\n",
        "  ax = plt.subplot(2,2, i+1)\n",
        "  random_index = random.choice(range(len(train_data)))\n",
        "  plt.imshow(train_data[random_index], cmap = plt.cm.binary)\n",
        "  plt.title(class_names[train_labels[random_index]])\n",
        "  plt.axis\n"
      ],
      "metadata": {
        "colab": {
          "base_uri": "https://localhost:8080/",
          "height": 444
        },
        "id": "hPNo0wsDJcq0",
        "outputId": "65ecb07d-829e-4619-8bfa-7c58995819de"
      },
      "execution_count": null,
      "outputs": [
        {
          "output_type": "display_data",
          "data": {
            "text/plain": [
              "<Figure size 504x504 with 4 Axes>"
            ],
            "image/png": "[encoded data removed]"
          },
          "metadata": {
            "needs_background": "light"
          }
        }
      ]
    },
    {
      "cell_type": "markdown",
      "source": [
        "## Building Multi-class classification.\n",
        "  * Input Shape = 28 x 28\n",
        "  * Output layer shape = 10\n",
        "  * Loss function = tf.keras.losses.categoricalCrossenropy()\n",
        "  * Output Layer activation = Softmax"
      ],
      "metadata": {
        "id": "iOovN0dcVOkK"
      }
    },
    {
      "cell_type": "code",
      "source": [
        "# Set random seed\n",
        "tf.random.set_seed(42)\n",
        "\n",
        "# Create the model\n",
        "\n",
        "model_11 = tf.keras.Sequential([\n",
        "    tf.keras.layers.Flatten(input_shape =(28,28)),\n",
        "    tf.keras.layers.Dense(4, activation=\"relu\"),\n",
        "    tf.keras.layers.Dense(4, activation=\"relu\"),\n",
        "    tf.keras.layers.Dense(10, activation=tf.keras.activations.softmax)\n",
        "    ])\n",
        "\n",
        "# Compile the Model\n",
        "\n",
        "model_11.compile(loss=tf.keras.losses.CategoricalCrossentropy(),\n",
        "                 optimizer=tf.keras.optimizers.Adam(),\n",
        "                 metrics=[\"accuracy\"])\n",
        "\n",
        "# Fit the Model\n",
        "no_norm_history = model_11.fit(train_data,\n",
        "                               tf.one_hot(train_labels, depth=10),\n",
        "                               epochs=10,\n",
        "                               validation_data=(test_data,tf.one_hot(test_labels, depth = 10)))\n",
        "\n"
      ],
      "metadata": {
        "colab": {
          "base_uri": "https://localhost:8080/"
        },
        "id": "Wqq_p2X_LNEI",
        "outputId": "9da9444d-f36f-442e-db36-379090813695"
      },
      "execution_count": null,
      "outputs": [
        {
          "output_type": "stream",
          "name": "stdout",
          "text": [
            "Epoch 1/10\n",
            "1875/1875 [==============================] - 5s 2ms/step - loss: 2.2617 - accuracy: 0.1930 - val_loss: 2.0201 - val_accuracy: 0.2000\n",
            "Epoch 2/10\n",
            "1875/1875 [==============================] - 4s 2ms/step - loss: 1.8942 - accuracy: 0.1993 - val_loss: 1.8047 - val_accuracy: 0.2000\n",
            "Epoch 3/10\n",
            "1875/1875 [==============================] - 5s 3ms/step - loss: 1.7872 - accuracy: 0.1993 - val_loss: 1.7547 - val_accuracy: 0.1994\n",
            "Epoch 4/10\n",
            "1875/1875 [==============================] - 4s 2ms/step - loss: 1.7546 - accuracy: 0.1975 - val_loss: 1.7368 - val_accuracy: 0.2001\n",
            "Epoch 5/10\n",
            "1875/1875 [==============================] - 4s 2ms/step - loss: 1.7352 - accuracy: 0.1985 - val_loss: 1.7254 - val_accuracy: 0.2000\n",
            "Epoch 6/10\n",
            "1875/1875 [==============================] - 5s 3ms/step - loss: 1.7442 - accuracy: 0.1974 - val_loss: 1.7380 - val_accuracy: 0.1997\n",
            "Epoch 7/10\n",
            "1875/1875 [==============================] - 4s 2ms/step - loss: 1.7269 - accuracy: 0.1995 - val_loss: 1.7193 - val_accuracy: 0.1998\n",
            "Epoch 8/10\n",
            "1875/1875 [==============================] - 5s 3ms/step - loss: 1.7248 - accuracy: 0.1975 - val_loss: 1.7218 - val_accuracy: 0.2001\n",
            "Epoch 9/10\n",
            "1875/1875 [==============================] - 4s 2ms/step - loss: 1.7422 - accuracy: 0.2010 - val_loss: 1.7212 - val_accuracy: 0.1993\n",
            "Epoch 10/10\n",
            "1875/1875 [==============================] - 5s 2ms/step - loss: 1.7258 - accuracy: 0.1991 - val_loss: 1.7188 - val_accuracy: 0.1995\n"
          ]
        }
      ]
    },
    {
      "cell_type": "code",
      "source": [
        "# Check Model Summary\n",
        "model_11.summary()"
      ],
      "metadata": {
        "colab": {
          "base_uri": "https://localhost:8080/"
        },
        "id": "LkjSZ3QZcrWP",
        "outputId": "ee572854-cea8-4766-9c33-792b52018c85"
      },
      "execution_count": null,
      "outputs": [
        {
          "output_type": "stream",
          "name": "stdout",
          "text": [
            "Model: \"sequential_7\"\n",
            "_________________________________________________________________\n",
            " Layer (type)                Output Shape              Param #   \n",
            "=================================================================\n",
            " flatten (Flatten)           (None, 784)               0         \n",
            "                                                                 \n",
            " dense_16 (Dense)            (None, 4)                 3140      \n",
            "                                                                 \n",
            " dense_17 (Dense)            (None, 4)                 20        \n",
            "                                                                 \n",
            " dense_18 (Dense)            (None, 10)                50        \n",
            "                                                                 \n",
            "=================================================================\n",
            "Total params: 3,210\n",
            "Trainable params: 3,210\n",
            "Non-trainable params: 0\n",
            "_________________________________________________________________\n"
          ]
        }
      ]
    },
    {
      "cell_type": "code",
      "source": [
        "# Check the min and max values of the training data\n",
        "\n",
        "train_data.min(), train_data.max()\n"
      ],
      "metadata": {
        "colab": {
          "base_uri": "https://localhost:8080/"
        },
        "id": "LEuUrkrjcx_u",
        "outputId": "1b30524d-ba27-4294-ae57-f60cc8911c11"
      },
      "execution_count": null,
      "outputs": [
        {
          "output_type": "execute_result",
          "data": {
            "text/plain": [
              "(0, 255)"
            ]
          },
          "metadata": {},
          "execution_count": 33
        }
      ]
    },
    {
      "cell_type": "code",
      "source": [
        "# We can get our training and testing data between 0 and 1 by didbing by the maximum\n",
        "\n",
        "train_data_norm = train_data /255.0\n",
        "test_data_norm = test_data / 255.0"
      ],
      "metadata": {
        "id": "F6ZGiTzmdokP"
      },
      "execution_count": null,
      "outputs": []
    },
    {
      "cell_type": "code",
      "source": [
        "train_data_norm.min(), train_data_norm.max()"
      ],
      "metadata": {
        "colab": {
          "base_uri": "https://localhost:8080/"
        },
        "id": "aD8rcACPd7FI",
        "outputId": "09befd2e-7acb-4796-e75d-85da4f16eb14"
      },
      "execution_count": null,
      "outputs": [
        {
          "output_type": "execute_result",
          "data": {
            "text/plain": [
              "(0.0, 1.0)"
            ]
          },
          "metadata": {},
          "execution_count": 35
        }
      ]
    },
    {
      "cell_type": "markdown",
      "source": [
        "## Build Model with Normalized data"
      ],
      "metadata": {
        "id": "SpIG-sMQeUl1"
      }
    },
    {
      "cell_type": "code",
      "source": [
        "# Set random seed\n",
        "tf.random.set_seed(42)\n",
        "\n",
        "# Create the model\n",
        "\n",
        "model_12 = tf.keras.Sequential([\n",
        "    tf.keras.layers.Flatten(input_shape =(28,28)),\n",
        "    tf.keras.layers.Dense(4, activation=\"relu\"),\n",
        "    tf.keras.layers.Dense(4, activation=\"relu\"),\n",
        "    tf.keras.layers.Dense(10, activation=tf.keras.activations.softmax)\n",
        "    ])\n",
        "\n",
        "# Compile the Model\n",
        "\n",
        "model_12.compile(loss=tf.keras.losses.SparseCategoricalCrossentropy(),\n",
        "                 optimizer=tf.keras.optimizers.Adam(),\n",
        "                 metrics=[\"accuracy\"])\n",
        "\n",
        "# Fit the Model\n",
        "norm_history = model_12.fit(train_data_norm,\n",
        "                            train_labels,\n",
        "                            epochs=10,\n",
        "                            validation_data=(test_data_norm,test_labels))"
      ],
      "metadata": {
        "colab": {
          "base_uri": "https://localhost:8080/"
        },
        "id": "crKdysvBeDcy",
        "outputId": "4ef9e380-24ac-4e58-e209-e74c0379c7dc"
      },
      "execution_count": null,
      "outputs": [
        {
          "output_type": "stream",
          "name": "stdout",
          "text": [
            "Epoch 1/10\n",
            "1875/1875 [==============================] - 5s 2ms/step - loss: 1.3722 - accuracy: 0.4891 - val_loss: 0.9935 - val_accuracy: 0.6220\n",
            "Epoch 2/10\n",
            "1875/1875 [==============================] - 4s 2ms/step - loss: 0.9163 - accuracy: 0.6321 - val_loss: 0.8831 - val_accuracy: 0.6335\n",
            "Epoch 3/10\n",
            "1875/1875 [==============================] - 5s 3ms/step - loss: 0.8391 - accuracy: 0.6566 - val_loss: 0.8115 - val_accuracy: 0.6976\n",
            "Epoch 4/10\n",
            "1875/1875 [==============================] - 4s 2ms/step - loss: 0.7381 - accuracy: 0.7212 - val_loss: 0.7311 - val_accuracy: 0.7236\n",
            "Epoch 5/10\n",
            "1875/1875 [==============================] - 4s 2ms/step - loss: 0.6885 - accuracy: 0.7371 - val_loss: 0.6984 - val_accuracy: 0.7314\n",
            "Epoch 6/10\n",
            "1875/1875 [==============================] - 5s 3ms/step - loss: 0.6619 - accuracy: 0.7447 - val_loss: 0.6990 - val_accuracy: 0.7285\n",
            "Epoch 7/10\n",
            "1875/1875 [==============================] - 4s 2ms/step - loss: 0.6448 - accuracy: 0.7487 - val_loss: 0.6650 - val_accuracy: 0.7411\n",
            "Epoch 8/10\n",
            "1875/1875 [==============================] - 4s 2ms/step - loss: 0.6320 - accuracy: 0.7534 - val_loss: 0.6628 - val_accuracy: 0.7437\n",
            "Epoch 9/10\n",
            "1875/1875 [==============================] - 5s 3ms/step - loss: 0.6220 - accuracy: 0.7572 - val_loss: 0.6525 - val_accuracy: 0.7465\n",
            "Epoch 10/10\n",
            "1875/1875 [==============================] - 4s 2ms/step - loss: 0.6144 - accuracy: 0.7614 - val_loss: 0.6402 - val_accuracy: 0.7524\n"
          ]
        }
      ]
    },
    {
      "cell_type": "code",
      "source": [
        "import pandas as pd\n",
        "\n",
        "# Plot non-normalizd data loss curves\n",
        "\n",
        "pd.DataFrame(no_norm_history.history).plot(title = \"Non-normalized data\")\n",
        "\n",
        "# Plot normalized data loss curves \n",
        "\n",
        "pd.DataFrame(norm_history.history).plot(title=\"Normalized data\")\n",
        "\n"
      ],
      "metadata": {
        "colab": {
          "base_uri": "https://localhost:8080/",
          "height": 563
        },
        "id": "rnNxXUZMe_4z",
        "outputId": "5d750295-3f02-4898-f715-7442ea3047ea"
      },
      "execution_count": null,
      "outputs": [
        {
          "output_type": "execute_result",
          "data": {
            "text/plain": [
              "<AxesSubplot:title={'center':'Normalized data'}>"
            ]
          },
          "metadata": {},
          "execution_count": 37
        },
        {
          "output_type": "display_data",
          "data": {
            "text/plain": [
              "<Figure size 432x288 with 1 Axes>"
            ],
            "image/png": "[encoded data removed]"
          },
          "metadata": {
            "needs_background": "light"
          }
        },
        {
          "output_type": "display_data",
          "data": {
            "text/plain": [
              "<Figure size 432x288 with 1 Axes>"
            ],
            "image/png": "[encoded data removed]"
          },
          "metadata": {
            "needs_background": "light"
          }
        }
      ]
    },
    {
      "cell_type": "markdown",
      "source": [
        "## Finding the ideal learning rate"
      ],
      "metadata": {
        "id": "jpcQ4voJnj_o"
      }
    },
    {
      "cell_type": "code",
      "source": [
        "# Set random seed\n",
        "tf.random.set_seed(42)\n",
        "\n",
        "# Create the model\n",
        "\n",
        "model_13 = tf.keras.Sequential([\n",
        "    tf.keras.layers.Flatten(input_shape =(28,28)),\n",
        "    tf.keras.layers.Dense(4, activation=\"relu\"),\n",
        "    tf.keras.layers.Dense(4, activation=\"relu\"),\n",
        "    tf.keras.layers.Dense(10, activation=tf.keras.activations.softmax)\n",
        "    ])\n",
        "\n",
        "# Compile the Model\n",
        "\n",
        "model_13.compile(loss=tf.keras.losses.SparseCategoricalCrossentropy(),\n",
        "                 optimizer=tf.keras.optimizers.Adam(),\n",
        "                 metrics=[\"accuracy\"])\n",
        "\n",
        "# Create the learning rate callback\n",
        "lr_scheduler = tf.keras.callbacks.LearningRateScheduler(lambda epoch: 1e-3 * 10 ** (epoch/20))\n",
        "\n",
        "# Fit the Model\n",
        "norm_history = model_13.fit(train_data_norm,\n",
        "                            train_labels,\n",
        "                            epochs=40,\n",
        "                            validation_data=(test_data_norm,test_labels),\n",
        "                            callbacks=[lr_scheduler])"
      ],
      "metadata": {
        "colab": {
          "base_uri": "https://localhost:8080/"
        },
        "id": "Ru4CUlEVjUlo",
        "outputId": "c79a349b-1900-4e20-89e4-896bc94fa9da"
      },
      "execution_count": null,
      "outputs": [
        {
          "output_type": "stream",
          "name": "stdout",
          "text": [
            "Epoch 1/40\n",
            "1875/1875 [==============================] - 6s 3ms/step - loss: 1.3905 - accuracy: 0.5373 - val_loss: 1.0445 - val_accuracy: 0.7098 - lr: 0.0010\n",
            "Epoch 2/40\n",
            "1875/1875 [==============================] - 4s 2ms/step - loss: 0.8020 - accuracy: 0.7634 - val_loss: 0.7272 - val_accuracy: 0.7649 - lr: 0.0011\n",
            "Epoch 3/40\n",
            "1875/1875 [==============================] - 4s 2ms/step - loss: 0.6513 - accuracy: 0.7874 - val_loss: 0.6609 - val_accuracy: 0.7776 - lr: 0.0013\n",
            "Epoch 4/40\n",
            "1875/1875 [==============================] - 5s 3ms/step - loss: 0.6074 - accuracy: 0.7967 - val_loss: 0.6263 - val_accuracy: 0.7914 - lr: 0.0014\n",
            "Epoch 5/40\n",
            "1875/1875 [==============================] - 5s 3ms/step - loss: 0.5699 - accuracy: 0.8030 - val_loss: 0.5860 - val_accuracy: 0.7967 - lr: 0.0016\n",
            "Epoch 6/40\n",
            "1875/1875 [==============================] - 5s 3ms/step - loss: 0.5455 - accuracy: 0.8092 - val_loss: 0.6008 - val_accuracy: 0.7912 - lr: 0.0018\n",
            "Epoch 7/40\n",
            "1875/1875 [==============================] - 5s 3ms/step - loss: 0.5324 - accuracy: 0.8150 - val_loss: 0.5543 - val_accuracy: 0.8029 - lr: 0.0020\n",
            "Epoch 8/40\n",
            "1875/1875 [==============================] - 4s 2ms/step - loss: 0.5239 - accuracy: 0.8188 - val_loss: 0.5658 - val_accuracy: 0.8026 - lr: 0.0022\n",
            "Epoch 9/40\n",
            "1875/1875 [==============================] - 4s 2ms/step - loss: 0.5213 - accuracy: 0.8181 - val_loss: 0.5459 - val_accuracy: 0.8046 - lr: 0.0025\n",
            "Epoch 10/40\n",
            "1875/1875 [==============================] - 5s 3ms/step - loss: 0.5174 - accuracy: 0.8197 - val_loss: 0.5487 - val_accuracy: 0.8065 - lr: 0.0028\n",
            "Epoch 11/40\n",
            "1875/1875 [==============================] - 4s 2ms/step - loss: 0.5191 - accuracy: 0.8186 - val_loss: 0.5536 - val_accuracy: 0.8076 - lr: 0.0032\n",
            "Epoch 12/40\n",
            "1875/1875 [==============================] - 4s 2ms/step - loss: 0.5179 - accuracy: 0.8191 - val_loss: 0.5697 - val_accuracy: 0.7980 - lr: 0.0035\n",
            "Epoch 13/40\n",
            "1875/1875 [==============================] - 6s 3ms/step - loss: 0.5167 - accuracy: 0.8187 - val_loss: 0.5315 - val_accuracy: 0.8151 - lr: 0.0040\n",
            "Epoch 14/40\n",
            "1875/1875 [==============================] - 4s 2ms/step - loss: 0.5166 - accuracy: 0.8209 - val_loss: 0.5386 - val_accuracy: 0.8115 - lr: 0.0045\n",
            "Epoch 15/40\n",
            "1875/1875 [==============================] - 4s 2ms/step - loss: 0.5208 - accuracy: 0.8176 - val_loss: 0.5508 - val_accuracy: 0.8075 - lr: 0.0050\n",
            "Epoch 16/40\n",
            "1875/1875 [==============================] - 5s 3ms/step - loss: 0.5261 - accuracy: 0.8174 - val_loss: 0.5592 - val_accuracy: 0.8098 - lr: 0.0056\n",
            "Epoch 17/40\n",
            "1875/1875 [==============================] - 4s 2ms/step - loss: 0.5251 - accuracy: 0.8174 - val_loss: 0.5544 - val_accuracy: 0.8114 - lr: 0.0063\n",
            "Epoch 18/40\n",
            "1875/1875 [==============================] - 4s 2ms/step - loss: 0.5327 - accuracy: 0.8159 - val_loss: 0.5503 - val_accuracy: 0.8144 - lr: 0.0071\n",
            "Epoch 19/40\n",
            "1875/1875 [==============================] - 5s 3ms/step - loss: 0.5359 - accuracy: 0.8127 - val_loss: 0.5440 - val_accuracy: 0.8164 - lr: 0.0079\n",
            "Epoch 20/40\n",
            "1875/1875 [==============================] - 4s 2ms/step - loss: 0.5431 - accuracy: 0.8111 - val_loss: 0.6003 - val_accuracy: 0.8039 - lr: 0.0089\n",
            "Epoch 21/40\n",
            "1875/1875 [==============================] - 4s 2ms/step - loss: 0.5433 - accuracy: 0.8108 - val_loss: 0.6574 - val_accuracy: 0.7655 - lr: 0.0100\n",
            "Epoch 22/40\n",
            "1875/1875 [==============================] - 5s 2ms/step - loss: 0.5492 - accuracy: 0.8108 - val_loss: 0.5677 - val_accuracy: 0.8154 - lr: 0.0112\n",
            "Epoch 23/40\n",
            "1875/1875 [==============================] - 4s 2ms/step - loss: 0.5594 - accuracy: 0.8091 - val_loss: 0.6319 - val_accuracy: 0.7837 - lr: 0.0126\n",
            "Epoch 24/40\n",
            "1875/1875 [==============================] - 5s 3ms/step - loss: 0.5568 - accuracy: 0.8113 - val_loss: 0.5925 - val_accuracy: 0.8063 - lr: 0.0141\n",
            "Epoch 25/40\n",
            "1875/1875 [==============================] - 5s 2ms/step - loss: 0.5581 - accuracy: 0.8112 - val_loss: 0.5563 - val_accuracy: 0.8123 - lr: 0.0158\n",
            "Epoch 26/40\n",
            "1875/1875 [==============================] - 4s 2ms/step - loss: 0.5627 - accuracy: 0.8093 - val_loss: 0.7164 - val_accuracy: 0.7717 - lr: 0.0178\n",
            "Epoch 27/40\n",
            "1875/1875 [==============================] - 4s 2ms/step - loss: 0.5771 - accuracy: 0.8070 - val_loss: 0.6524 - val_accuracy: 0.7812 - lr: 0.0200\n",
            "Epoch 28/40\n",
            "1875/1875 [==============================] - 5s 3ms/step - loss: 0.5793 - accuracy: 0.8068 - val_loss: 0.6726 - val_accuracy: 0.7841 - lr: 0.0224\n",
            "Epoch 29/40\n",
            "1875/1875 [==============================] - 4s 2ms/step - loss: 0.6038 - accuracy: 0.8033 - val_loss: 0.6461 - val_accuracy: 0.7839 - lr: 0.0251\n",
            "Epoch 30/40\n",
            "1875/1875 [==============================] - 4s 2ms/step - loss: 0.6466 - accuracy: 0.7917 - val_loss: 0.8637 - val_accuracy: 0.7244 - lr: 0.0282\n",
            "Epoch 31/40\n",
            "1875/1875 [==============================] - 4s 2ms/step - loss: 0.6552 - accuracy: 0.7894 - val_loss: 0.6907 - val_accuracy: 0.7893 - lr: 0.0316\n",
            "Epoch 32/40\n",
            "1875/1875 [==============================] - 4s 2ms/step - loss: 0.6848 - accuracy: 0.7822 - val_loss: 0.8018 - val_accuracy: 0.7347 - lr: 0.0355\n",
            "Epoch 33/40\n",
            "1875/1875 [==============================] - 4s 2ms/step - loss: 0.7261 - accuracy: 0.7657 - val_loss: 0.9601 - val_accuracy: 0.7502 - lr: 0.0398\n",
            "Epoch 34/40\n",
            "1875/1875 [==============================] - 4s 2ms/step - loss: 0.8235 - accuracy: 0.7122 - val_loss: 0.8149 - val_accuracy: 0.6714 - lr: 0.0447\n",
            "Epoch 35/40\n",
            "1875/1875 [==============================] - 4s 2ms/step - loss: 1.0856 - accuracy: 0.5732 - val_loss: 1.4814 - val_accuracy: 0.5113 - lr: 0.0501\n",
            "Epoch 36/40\n",
            "1875/1875 [==============================] - 5s 3ms/step - loss: 1.2624 - accuracy: 0.4505 - val_loss: 1.3026 - val_accuracy: 0.4050 - lr: 0.0562\n",
            "Epoch 37/40\n",
            "1875/1875 [==============================] - 5s 2ms/step - loss: 1.2162 - accuracy: 0.4726 - val_loss: 1.4649 - val_accuracy: 0.4471 - lr: 0.0631\n",
            "Epoch 38/40\n",
            "1875/1875 [==============================] - 4s 2ms/step - loss: 1.3933 - accuracy: 0.4115 - val_loss: 1.2919 - val_accuracy: 0.4144 - lr: 0.0708\n",
            "Epoch 39/40\n",
            "1875/1875 [==============================] - 5s 3ms/step - loss: 1.5812 - accuracy: 0.3203 - val_loss: 1.7297 - val_accuracy: 0.1976 - lr: 0.0794\n",
            "Epoch 40/40\n",
            "1875/1875 [==============================] - 4s 2ms/step - loss: 1.8394 - accuracy: 0.1947 - val_loss: 1.7408 - val_accuracy: 0.2000 - lr: 0.0891\n"
          ]
        }
      ]
    },
    {
      "cell_type": "markdown",
      "source": [
        "## lets refit a model with the ideal learning rate"
      ],
      "metadata": {
        "id": "APF4VDEEwO4A"
      }
    },
    {
      "cell_type": "code",
      "source": [
        "# Set random seed\n",
        "tf.random.set_seed(42)\n",
        "\n",
        "# Create the model\n",
        "\n",
        "model_14 = tf.keras.Sequential([\n",
        "    tf.keras.layers.Flatten(input_shape =(28,28)),\n",
        "    tf.keras.layers.Dense(4, activation=\"relu\"),\n",
        "    tf.keras.layers.Dense(4, activation=\"relu\"),\n",
        "    tf.keras.layers.Dense(10, activation=tf.keras.activations.softmax)\n",
        "    ])\n",
        "\n",
        "# Compile the Model\n",
        "\n",
        "model_14.compile(loss=tf.keras.losses.SparseCategoricalCrossentropy(),\n",
        "                 optimizer=tf.keras.optimizers.Adam(lr=0.001),\n",
        "                 metrics=[\"accuracy\"])\n",
        "\n",
        "# Fit the Model\n",
        "norm_history = model_14.fit(train_data_norm,\n",
        "                            train_labels,\n",
        "                            epochs=20,\n",
        "                            validation_data=(test_data_norm,test_labels)\n",
        "                            )\n"
      ],
      "metadata": {
        "colab": {
          "base_uri": "https://localhost:8080/"
        },
        "id": "TkP5mYsptidO",
        "outputId": "c89b115b-c99e-4e54-8cd5-65b043bc3011"
      },
      "execution_count": null,
      "outputs": [
        {
          "output_type": "stream",
          "name": "stderr",
          "text": [
            "WARNING:absl:`lr` is deprecated, please use `learning_rate` instead, or use the legacy optimizer, e.g.,tf.keras.optimizers.legacy.Adam.\n"
          ]
        },
        {
          "output_type": "stream",
          "name": "stdout",
          "text": [
            "Epoch 1/20\n",
            "1875/1875 [==============================] - 5s 2ms/step - loss: 1.0604 - accuracy: 0.6106 - val_loss: 0.7528 - val_accuracy: 0.7303\n",
            "Epoch 2/20\n",
            "1875/1875 [==============================] - 6s 3ms/step - loss: 0.6880 - accuracy: 0.7548 - val_loss: 0.7005 - val_accuracy: 0.7538\n",
            "Epoch 3/20\n",
            "1875/1875 [==============================] - 4s 2ms/step - loss: 0.6520 - accuracy: 0.7671 - val_loss: 0.6759 - val_accuracy: 0.7622\n",
            "Epoch 4/20\n",
            "1875/1875 [==============================] - 4s 2ms/step - loss: 0.6357 - accuracy: 0.7755 - val_loss: 0.6615 - val_accuracy: 0.7668\n",
            "Epoch 5/20\n",
            "1875/1875 [==============================] - 5s 3ms/step - loss: 0.6258 - accuracy: 0.7773 - val_loss: 0.6516 - val_accuracy: 0.7714\n",
            "Epoch 6/20\n",
            "1875/1875 [==============================] - 4s 2ms/step - loss: 0.6172 - accuracy: 0.7813 - val_loss: 0.6701 - val_accuracy: 0.7664\n",
            "Epoch 7/20\n",
            "1875/1875 [==============================] - 4s 2ms/step - loss: 0.6119 - accuracy: 0.7850 - val_loss: 0.6626 - val_accuracy: 0.7582\n",
            "Epoch 8/20\n",
            "1875/1875 [==============================] - 5s 3ms/step - loss: 0.6074 - accuracy: 0.7865 - val_loss: 0.6481 - val_accuracy: 0.7721\n",
            "Epoch 9/20\n",
            "1875/1875 [==============================] - 4s 2ms/step - loss: 0.6027 - accuracy: 0.7886 - val_loss: 0.6511 - val_accuracy: 0.7721\n",
            "Epoch 10/20\n",
            "1875/1875 [==============================] - 4s 2ms/step - loss: 0.6007 - accuracy: 0.7898 - val_loss: 0.6372 - val_accuracy: 0.7762\n",
            "Epoch 11/20\n",
            "1875/1875 [==============================] - 6s 3ms/step - loss: 0.5976 - accuracy: 0.7905 - val_loss: 0.6324 - val_accuracy: 0.7787\n",
            "Epoch 12/20\n",
            "1875/1875 [==============================] - 5s 2ms/step - loss: 0.5947 - accuracy: 0.7918 - val_loss: 0.6299 - val_accuracy: 0.7821\n",
            "Epoch 13/20\n",
            "1875/1875 [==============================] - 4s 2ms/step - loss: 0.5925 - accuracy: 0.7937 - val_loss: 0.6326 - val_accuracy: 0.7796\n",
            "Epoch 14/20\n",
            "1875/1875 [==============================] - 6s 3ms/step - loss: 0.5909 - accuracy: 0.7934 - val_loss: 0.6341 - val_accuracy: 0.7836\n",
            "Epoch 15/20\n",
            "1875/1875 [==============================] - 4s 2ms/step - loss: 0.5885 - accuracy: 0.7943 - val_loss: 0.6367 - val_accuracy: 0.7836\n",
            "Epoch 16/20\n",
            "1875/1875 [==============================] - 4s 2ms/step - loss: 0.5861 - accuracy: 0.7963 - val_loss: 0.6323 - val_accuracy: 0.7836\n",
            "Epoch 17/20\n",
            "1875/1875 [==============================] - 5s 3ms/step - loss: 0.5837 - accuracy: 0.7976 - val_loss: 0.6312 - val_accuracy: 0.7811\n",
            "Epoch 18/20\n",
            "1875/1875 [==============================] - 4s 2ms/step - loss: 0.5837 - accuracy: 0.7959 - val_loss: 0.6234 - val_accuracy: 0.7856\n",
            "Epoch 19/20\n",
            "1875/1875 [==============================] - 4s 2ms/step - loss: 0.5816 - accuracy: 0.7963 - val_loss: 0.6335 - val_accuracy: 0.7852\n",
            "Epoch 20/20\n",
            "1875/1875 [==============================] - 5s 3ms/step - loss: 0.5798 - accuracy: 0.7982 - val_loss: 0.6278 - val_accuracy: 0.7855\n"
          ]
        }
      ]
    },
    {
      "cell_type": "markdown",
      "source": [
        "## Evaluating our multi-class classification model"
      ],
      "metadata": {
        "id": "JB6QsxoSAVwI"
      }
    },
    {
      "cell_type": "code",
      "source": [
        "class_names"
      ],
      "metadata": {
        "colab": {
          "base_uri": "https://localhost:8080/"
        },
        "id": "hmpy_wUEw038",
        "outputId": "61632524-29d2-4bdd-f8c8-e9816db551b4"
      },
      "execution_count": null,
      "outputs": [
        {
          "output_type": "execute_result",
          "data": {
            "text/plain": [
              "['T-shirt/top',\n",
              " 'Trouser',\n",
              " 'Pullover',\n",
              " 'Dress',\n",
              " 'Coat',\n",
              " 'Sandal',\n",
              " 'Shirt',\n",
              " 'Sneaker',\n",
              " 'Bag',\n",
              " 'Ankle boot']"
            ]
          },
          "metadata": {},
          "execution_count": 40
        }
      ]
    },
    {
      "cell_type": "code",
      "source": [
        "import itertools\n",
        "from sklearn.metrics import confusion_matrix\n",
        "import numpy as np\n",
        "\n",
        "# Our function needs a different name to sklearn's plot_confusion_matrix\n",
        "def make_confusion_matrix(y_true, y_pred, classes=None, figsize=(10, 10), text_size=15): \n",
        "  \"\"\"Makes a labelled confusion matrix comparing predictions and ground truth labels.\n",
        "\n",
        "  If classes is passed, confusion matrix will be labelled, if not, integer class values\n",
        "  will be used.\n",
        "\n",
        "  Args:\n",
        "    y_true: Array of truth labels (must be same shape as y_pred).\n",
        "    y_pred: Array of predicted labels (must be same shape as y_true).\n",
        "    classes: Array of class labels (e.g. string form). If `None`, integer labels are used.\n",
        "    figsize: Size of output figure (default=(10, 10)).\n",
        "    text_size: Size of output figure text (default=15).\n",
        "  \n",
        "  Returns:\n",
        "    A labelled confusion matrix plot comparing y_true and y_pred.\n",
        "\n",
        "  Example usage:\n",
        "    make_confusion_matrix(y_true=test_labels, # ground truth test labels\n",
        "                          y_pred=y_preds, # predicted labels\n",
        "                          classes=class_names, # array of class label names\n",
        "                          figsize=(15, 15),\n",
        "                          text_size=10)\n",
        "  \"\"\"  \n",
        "  # Create the confustion matrix\n",
        "  cm = confusion_matrix(y_true, y_pred)\n",
        "  cm_norm = cm.astype(\"float\") / cm.sum(axis=1)[:, np.newaxis] # normalize it\n",
        "  n_classes = cm.shape[0] # find the number of classes we're dealing with\n",
        "\n",
        "  # Plot the figure and make it pretty\n",
        "  fig, ax = plt.subplots(figsize=figsize)\n",
        "  cax = ax.matshow(cm, cmap=plt.cm.Blues) # colors will represent how 'correct' a class is, darker == better\n",
        "  fig.colorbar(cax)\n",
        "\n",
        "  # Are there a list of classes?\n",
        "  if classes:\n",
        "    labels = classes\n",
        "  else:\n",
        "    labels = np.arange(cm.shape[0])\n",
        "  \n",
        "  # Label the axes\n",
        "  ax.set(title=\"Confusion Matrix\",\n",
        "         xlabel=\"Predicted label\",\n",
        "         ylabel=\"True label\",\n",
        "         xticks=np.arange(n_classes), # create enough axis slots for each class\n",
        "         yticks=np.arange(n_classes), \n",
        "         xticklabels=labels, # axes will labeled with class names (if they exist) or ints\n",
        "         yticklabels=labels)\n",
        "  \n",
        "  # Make x-axis labels appear on bottom\n",
        "  ax.xaxis.set_label_position(\"bottom\")\n",
        "  ax.xaxis.tick_bottom()\n",
        "\n",
        "  # Set the threshold for different colors\n",
        "  threshold = (cm.max() + cm.min()) / 2.\n",
        "\n",
        "  # Plot the text on each cell\n",
        "  for i, j in itertools.product(range(cm.shape[0]), range(cm.shape[1])):\n",
        "    plt.text(j, i, f\"{cm[i, j]} ({cm_norm[i, j]*100:.1f}%)\",\n",
        "             horizontalalignment=\"center\",\n",
        "             color=\"white\" if cm[i, j] > threshold else \"black\",\n",
        "             size=text_size)"
      ],
      "metadata": {
        "id": "6UJb2rQMATlv"
      },
      "execution_count": null,
      "outputs": []
    },
    {
      "cell_type": "code",
      "source": [
        "# Make some predictions with our model\n",
        "y_probs = model_14.predict(test_data_norm)\n",
        "\n",
        "# View the first 5 predictions\n",
        "y_probs[:5]"
      ],
      "metadata": {
        "colab": {
          "base_uri": "https://localhost:8080/"
        },
        "id": "XuRThc4fDZzR",
        "outputId": "e60f642b-38e3-44c7-fbae-ce5e7fa5fc7a"
      },
      "execution_count": null,
      "outputs": [
        {
          "output_type": "stream",
          "name": "stdout",
          "text": [
            "313/313 [==============================] - 1s 3ms/step\n"
          ]
        },
        {
          "output_type": "execute_result",
          "data": {
            "text/plain": [
              "array([[1.50683690e-07, 1.05522471e-08, 5.87845022e-07, 5.84072201e-04,\n",
              "        2.61820183e-04, 2.92880654e-01, 3.04046207e-05, 7.59426504e-02,\n",
              "        2.62920130e-02, 6.04007661e-01],\n",
              "       [6.05389301e-04, 6.19585373e-12, 7.12779284e-01, 7.86414546e-07,\n",
              "        1.85998812e-01, 1.00666054e-16, 1.00607321e-01, 4.27310564e-37,\n",
              "        8.38552569e-06, 2.85938413e-32],\n",
              "       [4.82229749e-03, 9.86977577e-01, 2.47181606e-06, 8.14051926e-03,\n",
              "        2.86789685e-07, 2.54862131e-10, 5.61317975e-05, 5.67517645e-07,\n",
              "        1.51733737e-08, 1.46532813e-08],\n",
              "       [2.40706955e-03, 9.89477873e-01, 3.56683785e-07, 8.10459536e-03,\n",
              "        6.07091195e-08, 6.99403313e-11, 8.37886546e-06, 7.54050404e-07,\n",
              "        2.51254253e-08, 8.82376639e-07],\n",
              "       [1.38325125e-01, 3.17777049e-05, 1.28050059e-01, 2.91186105e-02,\n",
              "        1.34186864e-01, 5.97345567e-12, 5.69611728e-01, 2.19022886e-21,\n",
              "        6.75932504e-04, 4.93531233e-18]], dtype=float32)"
            ]
          },
          "metadata": {},
          "execution_count": 42
        }
      ]
    },
    {
      "cell_type": "code",
      "source": [
        "y_probs[0], tf.argmax(y_probs[0]), class_names[tf.argmax(y_probs[0])]"
      ],
      "metadata": {
        "colab": {
          "base_uri": "https://localhost:8080/"
        },
        "id": "gP_nQM21D8Bp",
        "outputId": "5d6bcd55-fc8c-4e55-face-6f4f201e12f4"
      },
      "execution_count": null,
      "outputs": [
        {
          "output_type": "execute_result",
          "data": {
            "text/plain": [
              "(array([1.5068369e-07, 1.0552247e-08, 5.8784502e-07, 5.8407220e-04,\n",
              "        2.6182018e-04, 2.9288065e-01, 3.0404621e-05, 7.5942650e-02,\n",
              "        2.6292013e-02, 6.0400766e-01], dtype=float32),\n",
              " <tf.Tensor: shape=(), dtype=int64, numpy=9>,\n",
              " 'Ankle boot')"
            ]
          },
          "metadata": {},
          "execution_count": 43
        }
      ]
    },
    {
      "cell_type": "code",
      "source": [
        "# Convert all of the predictions probablites into integers\n",
        "y_preds = y_probs.argmax(axis=1)\n",
        "\n",
        "# view the first 10 prediction labels\n",
        "y_preds[:10]\n"
      ],
      "metadata": {
        "colab": {
          "base_uri": "https://localhost:8080/"
        },
        "id": "8qpPNLTVET9B",
        "outputId": "85d1e1eb-2c8b-4433-930d-4f48ad5f7794"
      },
      "execution_count": null,
      "outputs": [
        {
          "output_type": "execute_result",
          "data": {
            "text/plain": [
              "array([9, 2, 1, 1, 6, 1, 4, 6, 5, 7])"
            ]
          },
          "metadata": {},
          "execution_count": 44
        }
      ]
    },
    {
      "cell_type": "code",
      "source": [
        "from sklearn.metrics import confusion_matrix\n",
        "confusion_matrix(y_true=test_labels,\n",
        "                 y_pred=y_preds)\n"
      ],
      "metadata": {
        "colab": {
          "base_uri": "https://localhost:8080/"
        },
        "id": "gXo2mOeyEYcI",
        "outputId": "4d135d1f-1235-415d-8c2d-a75e70a49f5d"
      },
      "execution_count": null,
      "outputs": [
        {
          "output_type": "execute_result",
          "data": {
            "text/plain": [
              "array([[737,   8,  22,  91,  15,   3, 113,   0,  11,   0],\n",
              "       [ 14, 922,  11,  47,   1,   0,   4,   0,   1,   0],\n",
              "       [ 22,   0, 644,  14, 202,   1, 111,   0,   6,   0],\n",
              "       [ 34,  11,   5, 816,  33,   2,  80,   2,  12,   5],\n",
              "       [  4,   0, 127,  39, 729,   0,  88,   0,  13,   0],\n",
              "       [  0,   1,   0,   1,   0, 919,   0,  47,  11,  21],\n",
              "       [150,   0, 130,  72, 257,   3, 378,   0,  10,   0],\n",
              "       [  0,   0,   0,   0,   0,  53,   0, 902,   1,  44],\n",
              "       [  1,   0,   6,  14,  55,  22,  13,   3, 882,   4],\n",
              "       [  0,   0,   0,   3,   1,  21,   0,  40,   9, 926]])"
            ]
          },
          "metadata": {},
          "execution_count": 45
        }
      ]
    },
    {
      "cell_type": "code",
      "source": [
        "# Make a prettier confusion matrix\n",
        "make_confusion_matrix(y_true=test_labels, \n",
        "                      y_pred=y_preds,\n",
        "                      classes=class_names,\n",
        "                      figsize=(15, 15),\n",
        "                      text_size=10)"
      ],
      "metadata": {
        "colab": {
          "base_uri": "https://localhost:8080/",
          "height": 852
        },
        "id": "adm5LIw2GUdJ",
        "outputId": "82254e33-8a78-4fcd-a5d8-c7429d263280"
      },
      "execution_count": null,
      "outputs": [
        {
          "output_type": "display_data",
          "data": {
            "text/plain": [
              "<Figure size 1080x1080 with 2 Axes>"
            ],
            "image/png": "[encoded data removed]"
          },
          "metadata": {
            "needs_background": "light"
          }
        }
      ]
    },
    {
      "cell_type": "markdown",
      "source": [
        "## What patterns is our model learning"
      ],
      "metadata": {
        "id": "s3EXW5PZLCLG"
      }
    },
    {
      "cell_type": "code",
      "source": [
        "# Find the layers of our most recent model\n",
        "\n",
        "model_14.layers"
      ],
      "metadata": {
        "colab": {
          "base_uri": "https://localhost:8080/"
        },
        "id": "JAeZQEVXHD9h",
        "outputId": "9c0bed7a-7fe4-4e12-dd0e-1764c07c81de"
      },
      "execution_count": null,
      "outputs": [
        {
          "output_type": "execute_result",
          "data": {
            "text/plain": [
              "[<keras.layers.reshaping.flatten.Flatten at 0x7f855d0fcf10>,\n",
              " <keras.layers.core.dense.Dense at 0x7f855cf2b730>,\n",
              " <keras.layers.core.dense.Dense at 0x7f855cf2b5e0>,\n",
              " <keras.layers.core.dense.Dense at 0x7f855cf2bb80>]"
            ]
          },
          "metadata": {},
          "execution_count": 47
        }
      ]
    },
    {
      "cell_type": "code",
      "source": [
        "weights, biases = model_14.layers[1].get_weights()\n",
        "\n",
        "# Shapes\n",
        "weights , weights.shape"
      ],
      "metadata": {
        "id": "XhKGl00xLgdC",
        "colab": {
          "base_uri": "https://localhost:8080/"
        },
        "outputId": "ed15619a-d54b-4f5e-feca-e2ef71170f33"
      },
      "execution_count": null,
      "outputs": [
        {
          "output_type": "execute_result",
          "data": {
            "text/plain": [
              "(array([[-0.06954041, -0.20989878,  0.46348044, -0.88204473],\n",
              "        [ 0.00351103, -0.37057918,  0.64986557, -0.47649762],\n",
              "        [ 0.07436557,  1.1667134 ,  0.2649147 , -1.1051768 ],\n",
              "        ...,\n",
              "        [ 0.06641678, -0.14502351, -0.11830771, -0.47408596],\n",
              "        [ 0.06227179,  0.03176645,  0.05846566, -0.04346232],\n",
              "        [ 0.0249076 ,  0.33791065,  0.49708423, -0.29996124]],\n",
              "       dtype=float32), (784, 4))"
            ]
          },
          "metadata": {},
          "execution_count": 49
        }
      ]
    },
    {
      "cell_type": "code",
      "source": [
        "## Model Summary\n",
        "model_14.summary()"
      ],
      "metadata": {
        "colab": {
          "base_uri": "https://localhost:8080/"
        },
        "id": "6jGdEhHmMpT7",
        "outputId": "aaf8e2c6-717b-4346-da50-1a543171268f"
      },
      "execution_count": null,
      "outputs": [
        {
          "output_type": "stream",
          "name": "stdout",
          "text": [
            "Model: \"sequential_10\"\n",
            "_________________________________________________________________\n",
            " Layer (type)                Output Shape              Param #   \n",
            "=================================================================\n",
            " flatten_3 (Flatten)         (None, 784)               0         \n",
            "                                                                 \n",
            " dense_25 (Dense)            (None, 4)                 3140      \n",
            "                                                                 \n",
            " dense_26 (Dense)            (None, 4)                 20        \n",
            "                                                                 \n",
            " dense_27 (Dense)            (None, 10)                50        \n",
            "                                                                 \n",
            "=================================================================\n",
            "Total params: 3,210\n",
            "Trainable params: 3,210\n",
            "Non-trainable params: 0\n",
            "_________________________________________________________________\n"
          ]
        }
      ]
    },
    {
      "cell_type": "code",
      "source": [
        "# Let's check out another way of viewing Deep Learning Models\n",
        "from tensorflow.keras.utils import plot_model\n",
        "\n",
        "# See the inputs and Outputs of each Layer\n",
        "\n",
        "plot_model(model_14, show_shapes=True)\n"
      ],
      "metadata": {
        "colab": {
          "base_uri": "https://localhost:8080/",
          "height": 533
        },
        "id": "XOoKO1SQM-yi",
        "outputId": "3358e0ec-bf1d-4c69-a8cb-ddbe29da9f70"
      },
      "execution_count": null,
      "outputs": [
        {
          "output_type": "execute_result",
          "data": {
            "image/png": "[encoded data removed]",
            "text/plain": [
              "<IPython.core.display.Image object>"
            ]
          },
          "metadata": {},
          "execution_count": 52
        }
      ]
    },
    {
      "cell_type": "code",
      "source": [],
      "metadata": {
        "id": "AFEFUR2lPQoU"
      },
      "execution_count": null,
      "outputs": []
    }
  ]
}